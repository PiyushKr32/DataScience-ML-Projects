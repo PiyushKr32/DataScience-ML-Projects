{
 "cells": [
  {
   "cell_type": "code",
   "execution_count": 1,
   "metadata": {},
   "outputs": [],
   "source": [
    "import pandas as pd\n",
    "import numpy as np\n",
    "import seaborn as sns\n",
    "import matplotlib.pyplot as plt\n",
    "%matplotlib inline\n",
    "import math\n",
    "import scipy.stats as stats\n",
    "from sklearn import metrics\n",
    "from sklearn.model_selection import GridSearchCV\n",
    "from sklearn.metrics import confusion_matrix, classification_report, roc_auc_score, roc_curve\n",
    "from sklearn.model_selection import train_test_split\n",
    "from sklearn.preprocessing import StandardScaler\n",
    "from scipy.stats import zscore\n",
    "from warnings import filterwarnings\n",
    "filterwarnings(\"ignore\")\n",
    "\n",
    "from sklearn.preprocessing import LabelEncoder\n",
    "from sklearn.linear_model import LogisticRegression\n",
    "from sklearn.discriminant_analysis import LinearDiscriminantAnalysis\n",
    "from imblearn.over_sampling import SMOTE\n",
    "from sklearn.neighbors import KNeighborsClassifier\n",
    "from sklearn.naive_bayes import GaussianNB\n",
    "from sklearn.ensemble import RandomForestClassifier\n",
    "from sklearn.ensemble import AdaBoostClassifier\n",
    "from sklearn.ensemble import GradientBoostingClassifier\n",
    "from xgboost.sklearn import XGBClassifier\n",
    "from sklearn.svm import SVC\n",
    "from sklearn.feature_selection import RFE\n",
    "from imblearn.over_sampling import SMOTE\n",
    "\n",
    "import statsmodels.api as sm\n",
    "from pylab import rcParams"
   ]
  },
  {
   "cell_type": "code",
   "execution_count": 2,
   "metadata": {},
   "outputs": [
    {
     "name": "stdout",
     "output_type": "stream",
     "text": [
      "Shape of Train : (87500, 30)\n",
      "Shape of Test : (37500, 29)\n"
     ]
    }
   ],
   "source": [
    "train = pd.read_csv('Data_Train.csv')\n",
    "test = pd.read_csv('Data_Test.csv')\n",
    "\n",
    "# getting the shapes of the datasets\n",
    "print(\"Shape of Train :\", train.shape)\n",
    "print(\"Shape of Test :\", test.shape)"
   ]
  },
  {
   "cell_type": "code",
   "execution_count": 3,
   "metadata": {},
   "outputs": [
    {
     "data": {
      "text/html": [
       "<div>\n",
       "<style scoped>\n",
       "    .dataframe tbody tr th:only-of-type {\n",
       "        vertical-align: middle;\n",
       "    }\n",
       "\n",
       "    .dataframe tbody tr th {\n",
       "        vertical-align: top;\n",
       "    }\n",
       "\n",
       "    .dataframe thead th {\n",
       "        text-align: right;\n",
       "    }\n",
       "</style>\n",
       "<table border=\"1\" class=\"dataframe\">\n",
       "  <thead>\n",
       "    <tr style=\"text-align: right;\">\n",
       "      <th></th>\n",
       "      <th>ID</th>\n",
       "      <th>Asst_Reg</th>\n",
       "      <th>GGGrade</th>\n",
       "      <th>Experience</th>\n",
       "      <th>Validation</th>\n",
       "      <th>Yearly Income</th>\n",
       "      <th>Home Status</th>\n",
       "      <th>Unpaid 2 years</th>\n",
       "      <th>Already Defaulted</th>\n",
       "      <th>Designation</th>\n",
       "      <th>...</th>\n",
       "      <th>File Status</th>\n",
       "      <th>State</th>\n",
       "      <th>Account Open</th>\n",
       "      <th>Total Unpaid CL</th>\n",
       "      <th>Duration</th>\n",
       "      <th>Unpaid Amount</th>\n",
       "      <th>Reason</th>\n",
       "      <th>Claim Type</th>\n",
       "      <th>Due Fee</th>\n",
       "      <th>Loan/No Loan</th>\n",
       "    </tr>\n",
       "  </thead>\n",
       "  <tbody>\n",
       "    <tr>\n",
       "      <th>0</th>\n",
       "      <td>95074</td>\n",
       "      <td>421802</td>\n",
       "      <td>II</td>\n",
       "      <td>&gt;10yrs</td>\n",
       "      <td>Vfied</td>\n",
       "      <td>633600.00</td>\n",
       "      <td>MOR??AGE</td>\n",
       "      <td>0</td>\n",
       "      <td>0</td>\n",
       "      <td>GLENDALE NISSAN</td>\n",
       "      <td>...</td>\n",
       "      <td>fully paid</td>\n",
       "      <td>California</td>\n",
       "      <td>17</td>\n",
       "      <td>58598.0</td>\n",
       "      <td>3 years</td>\n",
       "      <td>31216.05</td>\n",
       "      <td>debt  consolidation</td>\n",
       "      <td>I</td>\n",
       "      <td>0.0</td>\n",
       "      <td>0</td>\n",
       "    </tr>\n",
       "    <tr>\n",
       "      <th>1</th>\n",
       "      <td>134131</td>\n",
       "      <td>3964312</td>\n",
       "      <td>IV</td>\n",
       "      <td>7yrs</td>\n",
       "      <td>Source Verified</td>\n",
       "      <td>85483.20</td>\n",
       "      <td>REN?</td>\n",
       "      <td>0</td>\n",
       "      <td>0</td>\n",
       "      <td>Business Teacher</td>\n",
       "      <td>...</td>\n",
       "      <td>whole</td>\n",
       "      <td>NC</td>\n",
       "      <td>15</td>\n",
       "      <td>18924.0</td>\n",
       "      <td>5 years</td>\n",
       "      <td>11660.49</td>\n",
       "      <td>debt  consolidation</td>\n",
       "      <td>I</td>\n",
       "      <td>0.0</td>\n",
       "      <td>0</td>\n",
       "    </tr>\n",
       "    <tr>\n",
       "      <th>2</th>\n",
       "      <td>92602</td>\n",
       "      <td>4247560</td>\n",
       "      <td>III</td>\n",
       "      <td>&lt;1yr</td>\n",
       "      <td>Source Verified</td>\n",
       "      <td>79200.00</td>\n",
       "      <td>REN?</td>\n",
       "      <td>0</td>\n",
       "      <td>0</td>\n",
       "      <td>driver</td>\n",
       "      <td>...</td>\n",
       "      <td>whole</td>\n",
       "      <td>Florida</td>\n",
       "      <td>7</td>\n",
       "      <td>15604.0</td>\n",
       "      <td>5 years</td>\n",
       "      <td>5637.87</td>\n",
       "      <td>major  purchase</td>\n",
       "      <td>I</td>\n",
       "      <td>0.0</td>\n",
       "      <td>0</td>\n",
       "    </tr>\n",
       "    <tr>\n",
       "      <th>3</th>\n",
       "      <td>22591</td>\n",
       "      <td>197179</td>\n",
       "      <td>III</td>\n",
       "      <td>&lt;1yr</td>\n",
       "      <td>Vfied</td>\n",
       "      <td>61600.00</td>\n",
       "      <td>REN?</td>\n",
       "      <td>0</td>\n",
       "      <td>0</td>\n",
       "      <td>AvePoint</td>\n",
       "      <td>...</td>\n",
       "      <td>fully paid</td>\n",
       "      <td>NewJersey</td>\n",
       "      <td>9</td>\n",
       "      <td>22410.0</td>\n",
       "      <td>3 years</td>\n",
       "      <td>15607.17</td>\n",
       "      <td>major  purchase</td>\n",
       "      <td>I</td>\n",
       "      <td>0.0</td>\n",
       "      <td>1</td>\n",
       "    </tr>\n",
       "    <tr>\n",
       "      <th>4</th>\n",
       "      <td>125060</td>\n",
       "      <td>4646684</td>\n",
       "      <td>V</td>\n",
       "      <td>2yrs</td>\n",
       "      <td>Source Verified</td>\n",
       "      <td>68053.92</td>\n",
       "      <td>REN?</td>\n",
       "      <td>0</td>\n",
       "      <td>0</td>\n",
       "      <td>Lead Tester</td>\n",
       "      <td>...</td>\n",
       "      <td>fully paid</td>\n",
       "      <td>LA</td>\n",
       "      <td>10</td>\n",
       "      <td>36022.0</td>\n",
       "      <td>5 years</td>\n",
       "      <td>27472.86</td>\n",
       "      <td>debt  consolidation</td>\n",
       "      <td>I</td>\n",
       "      <td>0.0</td>\n",
       "      <td>0</td>\n",
       "    </tr>\n",
       "  </tbody>\n",
       "</table>\n",
       "<p>5 rows × 30 columns</p>\n",
       "</div>"
      ],
      "text/plain": [
       "       ID  Asst_Reg GGGrade Experience       Validation  Yearly Income  \\\n",
       "0   95074    421802      II     >10yrs            Vfied      633600.00   \n",
       "1  134131   3964312      IV       7yrs  Source Verified       85483.20   \n",
       "2   92602   4247560     III       <1yr  Source Verified       79200.00   \n",
       "3   22591    197179     III       <1yr            Vfied       61600.00   \n",
       "4  125060   4646684       V       2yrs  Source Verified       68053.92   \n",
       "\n",
       "  Home Status  Unpaid 2 years  Already Defaulted       Designation  ...  \\\n",
       "0    MOR??AGE               0                  0   GLENDALE NISSAN  ...   \n",
       "1        REN?               0                  0  Business Teacher  ...   \n",
       "2        REN?               0                  0            driver  ...   \n",
       "3        REN?               0                  0          AvePoint  ...   \n",
       "4        REN?               0                  0       Lead Tester  ...   \n",
       "\n",
       "   File Status       State  Account Open  Total Unpaid CL  Duration  \\\n",
       "0   fully paid  California            17          58598.0   3 years   \n",
       "1        whole          NC            15          18924.0   5 years   \n",
       "2        whole     Florida             7          15604.0   5 years   \n",
       "3   fully paid   NewJersey             9          22410.0   3 years   \n",
       "4   fully paid          LA            10          36022.0   5 years   \n",
       "\n",
       "   Unpaid Amount               Reason  Claim Type  Due Fee  Loan/No Loan  \n",
       "0       31216.05  debt  consolidation           I      0.0             0  \n",
       "1       11660.49  debt  consolidation           I      0.0             0  \n",
       "2        5637.87      major  purchase           I      0.0             0  \n",
       "3       15607.17      major  purchase           I      0.0             1  \n",
       "4       27472.86  debt  consolidation           I      0.0             0  \n",
       "\n",
       "[5 rows x 30 columns]"
      ]
     },
     "execution_count": 3,
     "metadata": {},
     "output_type": "execute_result"
    }
   ],
   "source": [
    "train.head()"
   ]
  },
  {
   "cell_type": "code",
   "execution_count": 4,
   "metadata": {},
   "outputs": [
    {
     "data": {
      "text/html": [
       "<div>\n",
       "<style scoped>\n",
       "    .dataframe tbody tr th:only-of-type {\n",
       "        vertical-align: middle;\n",
       "    }\n",
       "\n",
       "    .dataframe tbody tr th {\n",
       "        vertical-align: top;\n",
       "    }\n",
       "\n",
       "    .dataframe thead th {\n",
       "        text-align: right;\n",
       "    }\n",
       "</style>\n",
       "<table border=\"1\" class=\"dataframe\">\n",
       "  <thead>\n",
       "    <tr style=\"text-align: right;\">\n",
       "      <th></th>\n",
       "      <th>ID</th>\n",
       "      <th>Asst_Reg</th>\n",
       "      <th>GGGrade</th>\n",
       "      <th>Experience</th>\n",
       "      <th>Validation</th>\n",
       "      <th>Yearly Income</th>\n",
       "      <th>Home Status</th>\n",
       "      <th>Unpaid 2 years</th>\n",
       "      <th>Already Defaulted</th>\n",
       "      <th>Designation</th>\n",
       "      <th>...</th>\n",
       "      <th>Sub GGGrade</th>\n",
       "      <th>File Status</th>\n",
       "      <th>State</th>\n",
       "      <th>Account Open</th>\n",
       "      <th>Total Unpaid CL</th>\n",
       "      <th>Duration</th>\n",
       "      <th>Unpaid Amount</th>\n",
       "      <th>Reason</th>\n",
       "      <th>Claim Type</th>\n",
       "      <th>Due Fee</th>\n",
       "    </tr>\n",
       "  </thead>\n",
       "  <tbody>\n",
       "    <tr>\n",
       "      <th>0</th>\n",
       "      <td>198980</td>\n",
       "      <td>1773284</td>\n",
       "      <td>II</td>\n",
       "      <td>2yrs</td>\n",
       "      <td>Source Verified</td>\n",
       "      <td>140800.00</td>\n",
       "      <td>OWN</td>\n",
       "      <td>0</td>\n",
       "      <td>0</td>\n",
       "      <td>processor</td>\n",
       "      <td>...</td>\n",
       "      <td>17</td>\n",
       "      <td>fully paid</td>\n",
       "      <td>California</td>\n",
       "      <td>23</td>\n",
       "      <td>33532.0</td>\n",
       "      <td>3 years</td>\n",
       "      <td>15755.94</td>\n",
       "      <td>major  purchase</td>\n",
       "      <td>I</td>\n",
       "      <td>0.0</td>\n",
       "    </tr>\n",
       "    <tr>\n",
       "      <th>1</th>\n",
       "      <td>167688</td>\n",
       "      <td>5298273</td>\n",
       "      <td>II</td>\n",
       "      <td>&gt;10yrs</td>\n",
       "      <td>Vfied</td>\n",
       "      <td>146080.00</td>\n",
       "      <td>MOR??AGE</td>\n",
       "      <td>0</td>\n",
       "      <td>0</td>\n",
       "      <td>Speech Language Pathologist</td>\n",
       "      <td>...</td>\n",
       "      <td>19</td>\n",
       "      <td>whole</td>\n",
       "      <td>Florida</td>\n",
       "      <td>17</td>\n",
       "      <td>149234.0</td>\n",
       "      <td>5 years</td>\n",
       "      <td>68237.55</td>\n",
       "      <td>debt  consolidation</td>\n",
       "      <td>I</td>\n",
       "      <td>0.0</td>\n",
       "    </tr>\n",
       "    <tr>\n",
       "      <th>2</th>\n",
       "      <td>198768</td>\n",
       "      <td>189781</td>\n",
       "      <td>VI</td>\n",
       "      <td>&gt;10yrs</td>\n",
       "      <td>Vfied</td>\n",
       "      <td>202222.24</td>\n",
       "      <td>MOR??AGE</td>\n",
       "      <td>0</td>\n",
       "      <td>0</td>\n",
       "      <td>Raytheon</td>\n",
       "      <td>...</td>\n",
       "      <td>37</td>\n",
       "      <td>whole</td>\n",
       "      <td>NM</td>\n",
       "      <td>15</td>\n",
       "      <td>70218.0</td>\n",
       "      <td>5 years</td>\n",
       "      <td>66272.76</td>\n",
       "      <td>debt  consolidation</td>\n",
       "      <td>I</td>\n",
       "      <td>0.0</td>\n",
       "    </tr>\n",
       "    <tr>\n",
       "      <th>3</th>\n",
       "      <td>192564</td>\n",
       "      <td>1530906</td>\n",
       "      <td>II</td>\n",
       "      <td>&gt;10yrs</td>\n",
       "      <td>Vfied</td>\n",
       "      <td>105600.00</td>\n",
       "      <td>MOR??AGE</td>\n",
       "      <td>1</td>\n",
       "      <td>0</td>\n",
       "      <td>Computer/Network Technician</td>\n",
       "      <td>...</td>\n",
       "      <td>19</td>\n",
       "      <td>fully paid</td>\n",
       "      <td>DE</td>\n",
       "      <td>18</td>\n",
       "      <td>79182.0</td>\n",
       "      <td>3 years</td>\n",
       "      <td>15595.20</td>\n",
       "      <td>credit  card</td>\n",
       "      <td>I</td>\n",
       "      <td>0.0</td>\n",
       "    </tr>\n",
       "    <tr>\n",
       "      <th>4</th>\n",
       "      <td>151199</td>\n",
       "      <td>4410316</td>\n",
       "      <td>III</td>\n",
       "      <td>4yrs</td>\n",
       "      <td>Not Vfied</td>\n",
       "      <td>151360.00</td>\n",
       "      <td>MOR??AGE</td>\n",
       "      <td>0</td>\n",
       "      <td>0</td>\n",
       "      <td>NDE Tech</td>\n",
       "      <td>...</td>\n",
       "      <td>25</td>\n",
       "      <td>fully paid</td>\n",
       "      <td>Florida</td>\n",
       "      <td>7</td>\n",
       "      <td>13612.0</td>\n",
       "      <td>3 years</td>\n",
       "      <td>8850.96</td>\n",
       "      <td>debt  consolidation</td>\n",
       "      <td>I</td>\n",
       "      <td>0.0</td>\n",
       "    </tr>\n",
       "  </tbody>\n",
       "</table>\n",
       "<p>5 rows × 29 columns</p>\n",
       "</div>"
      ],
      "text/plain": [
       "       ID  Asst_Reg GGGrade Experience       Validation  Yearly Income  \\\n",
       "0  198980   1773284      II       2yrs  Source Verified      140800.00   \n",
       "1  167688   5298273      II     >10yrs            Vfied      146080.00   \n",
       "2  198768    189781      VI     >10yrs            Vfied      202222.24   \n",
       "3  192564   1530906      II     >10yrs            Vfied      105600.00   \n",
       "4  151199   4410316     III       4yrs        Not Vfied      151360.00   \n",
       "\n",
       "  Home Status  Unpaid 2 years  Already Defaulted                  Designation  \\\n",
       "0         OWN               0                  0                    processor   \n",
       "1    MOR??AGE               0                  0  Speech Language Pathologist   \n",
       "2    MOR??AGE               0                  0                     Raytheon   \n",
       "3    MOR??AGE               1                  0  Computer/Network Technician   \n",
       "4    MOR??AGE               0                  0                     NDE Tech   \n",
       "\n",
       "   ...  Sub GGGrade  File Status       State  Account Open  Total Unpaid CL  \\\n",
       "0  ...           17   fully paid  California            23          33532.0   \n",
       "1  ...           19        whole     Florida            17         149234.0   \n",
       "2  ...           37        whole          NM            15          70218.0   \n",
       "3  ...           19   fully paid          DE            18          79182.0   \n",
       "4  ...           25   fully paid     Florida             7          13612.0   \n",
       "\n",
       "   Duration  Unpaid Amount               Reason  Claim Type  Due Fee  \n",
       "0   3 years       15755.94      major  purchase           I      0.0  \n",
       "1   5 years       68237.55  debt  consolidation           I      0.0  \n",
       "2   5 years       66272.76  debt  consolidation           I      0.0  \n",
       "3   3 years       15595.20         credit  card           I      0.0  \n",
       "4   3 years        8850.96  debt  consolidation           I      0.0  \n",
       "\n",
       "[5 rows x 29 columns]"
      ]
     },
     "execution_count": 4,
     "metadata": {},
     "output_type": "execute_result"
    }
   ],
   "source": [
    "test.head()"
   ]
  },
  {
   "cell_type": "code",
   "execution_count": 5,
   "metadata": {},
   "outputs": [],
   "source": [
    "train.columns = train.columns.str.strip().str.replace(' ', '_')\n",
    "test.columns = test.columns.str.strip().str.replace(' ', '_')"
   ]
  },
  {
   "cell_type": "code",
   "execution_count": 6,
   "metadata": {},
   "outputs": [
    {
     "data": {
      "text/html": [
       "<div>\n",
       "<style scoped>\n",
       "    .dataframe tbody tr th:only-of-type {\n",
       "        vertical-align: middle;\n",
       "    }\n",
       "\n",
       "    .dataframe tbody tr th {\n",
       "        vertical-align: top;\n",
       "    }\n",
       "\n",
       "    .dataframe thead th {\n",
       "        text-align: right;\n",
       "    }\n",
       "</style>\n",
       "<table border=\"1\" class=\"dataframe\">\n",
       "  <thead>\n",
       "    <tr style=\"text-align: right;\">\n",
       "      <th></th>\n",
       "      <th>count</th>\n",
       "      <th>mean</th>\n",
       "      <th>std</th>\n",
       "      <th>min</th>\n",
       "      <th>25%</th>\n",
       "      <th>50%</th>\n",
       "      <th>75%</th>\n",
       "      <th>max</th>\n",
       "    </tr>\n",
       "  </thead>\n",
       "  <tbody>\n",
       "    <tr>\n",
       "      <th>ID</th>\n",
       "      <td>87500.0</td>\n",
       "      <td>8.394625e+04</td>\n",
       "      <td>3.610010e+04</td>\n",
       "      <td>21560.0</td>\n",
       "      <td>5.261675e+04</td>\n",
       "      <td>8.390000e+04</td>\n",
       "      <td>1.152612e+05</td>\n",
       "      <td>1.465590e+05</td>\n",
       "    </tr>\n",
       "    <tr>\n",
       "      <th>Asst_Reg</th>\n",
       "      <td>87500.0</td>\n",
       "      <td>3.798914e+06</td>\n",
       "      <td>2.289038e+06</td>\n",
       "      <td>24847.0</td>\n",
       "      <td>1.483874e+06</td>\n",
       "      <td>4.132010e+06</td>\n",
       "      <td>5.952909e+06</td>\n",
       "      <td>7.351847e+06</td>\n",
       "    </tr>\n",
       "    <tr>\n",
       "      <th>Yearly_Income</th>\n",
       "      <td>81925.0</td>\n",
       "      <td>1.348596e+05</td>\n",
       "      <td>9.882473e+04</td>\n",
       "      <td>8800.0</td>\n",
       "      <td>8.324659e+04</td>\n",
       "      <td>1.144000e+05</td>\n",
       "      <td>1.601600e+05</td>\n",
       "      <td>8.264031e+06</td>\n",
       "    </tr>\n",
       "    <tr>\n",
       "      <th>Unpaid_2_years</th>\n",
       "      <td>87500.0</td>\n",
       "      <td>3.329371e-01</td>\n",
       "      <td>8.760799e-01</td>\n",
       "      <td>0.0</td>\n",
       "      <td>0.000000e+00</td>\n",
       "      <td>0.000000e+00</td>\n",
       "      <td>0.000000e+00</td>\n",
       "      <td>1.800000e+01</td>\n",
       "    </tr>\n",
       "    <tr>\n",
       "      <th>Already_Defaulted</th>\n",
       "      <td>87500.0</td>\n",
       "      <td>5.725714e-03</td>\n",
       "      <td>8.350455e-02</td>\n",
       "      <td>0.0</td>\n",
       "      <td>0.000000e+00</td>\n",
       "      <td>0.000000e+00</td>\n",
       "      <td>0.000000e+00</td>\n",
       "      <td>6.000000e+00</td>\n",
       "    </tr>\n",
       "    <tr>\n",
       "      <th>Debt_to_Income</th>\n",
       "      <td>84011.0</td>\n",
       "      <td>3.094266e+01</td>\n",
       "      <td>1.407981e+01</td>\n",
       "      <td>0.0</td>\n",
       "      <td>2.042880e+01</td>\n",
       "      <td>3.013920e+01</td>\n",
       "      <td>4.090800e+01</td>\n",
       "      <td>6.392904e+02</td>\n",
       "    </tr>\n",
       "    <tr>\n",
       "      <th>Postal_Code</th>\n",
       "      <td>86111.0</td>\n",
       "      <td>5.115539e+04</td>\n",
       "      <td>3.121123e+04</td>\n",
       "      <td>1000.0</td>\n",
       "      <td>2.290000e+04</td>\n",
       "      <td>4.770000e+04</td>\n",
       "      <td>8.020000e+04</td>\n",
       "      <td>9.990000e+04</td>\n",
       "    </tr>\n",
       "    <tr>\n",
       "      <th>Lend_Amount</th>\n",
       "      <td>87500.0</td>\n",
       "      <td>2.592054e+04</td>\n",
       "      <td>1.443384e+04</td>\n",
       "      <td>1710.0</td>\n",
       "      <td>1.504800e+04</td>\n",
       "      <td>2.394000e+04</td>\n",
       "      <td>3.420000e+04</td>\n",
       "      <td>5.985000e+04</td>\n",
       "    </tr>\n",
       "    <tr>\n",
       "      <th>Deprecatory_Records</th>\n",
       "      <td>87500.0</td>\n",
       "      <td>2.024000e-01</td>\n",
       "      <td>6.464135e-01</td>\n",
       "      <td>0.0</td>\n",
       "      <td>0.000000e+00</td>\n",
       "      <td>0.000000e+00</td>\n",
       "      <td>0.000000e+00</td>\n",
       "      <td>8.600000e+01</td>\n",
       "    </tr>\n",
       "    <tr>\n",
       "      <th>Interest_Charged</th>\n",
       "      <td>87500.0</td>\n",
       "      <td>1.651837e+01</td>\n",
       "      <td>4.902011e+00</td>\n",
       "      <td>8.0</td>\n",
       "      <td>1.231000e+01</td>\n",
       "      <td>1.649000e+01</td>\n",
       "      <td>2.077000e+01</td>\n",
       "      <td>2.500000e+01</td>\n",
       "    </tr>\n",
       "    <tr>\n",
       "      <th>Usage_Rate</th>\n",
       "      <td>87500.0</td>\n",
       "      <td>9.551735e+01</td>\n",
       "      <td>4.055404e+01</td>\n",
       "      <td>0.0</td>\n",
       "      <td>6.604800e+01</td>\n",
       "      <td>9.700800e+01</td>\n",
       "      <td>1.265920e+02</td>\n",
       "      <td>1.534756e+03</td>\n",
       "    </tr>\n",
       "    <tr>\n",
       "      <th>Inquiries</th>\n",
       "      <td>87500.0</td>\n",
       "      <td>6.706400e-01</td>\n",
       "      <td>9.595719e-01</td>\n",
       "      <td>0.0</td>\n",
       "      <td>0.000000e+00</td>\n",
       "      <td>0.000000e+00</td>\n",
       "      <td>1.000000e+00</td>\n",
       "      <td>8.000000e+00</td>\n",
       "    </tr>\n",
       "    <tr>\n",
       "      <th>Present_Balance</th>\n",
       "      <td>87500.0</td>\n",
       "      <td>2.363895e+05</td>\n",
       "      <td>2.550568e+05</td>\n",
       "      <td>0.0</td>\n",
       "      <td>5.173493e+04</td>\n",
       "      <td>1.388062e+05</td>\n",
       "      <td>3.534755e+05</td>\n",
       "      <td>5.629234e+06</td>\n",
       "    </tr>\n",
       "    <tr>\n",
       "      <th>Gross_Collection</th>\n",
       "      <td>87500.0</td>\n",
       "      <td>3.946170e+01</td>\n",
       "      <td>3.919196e+02</td>\n",
       "      <td>0.0</td>\n",
       "      <td>0.000000e+00</td>\n",
       "      <td>0.000000e+00</td>\n",
       "      <td>0.000000e+00</td>\n",
       "      <td>2.630847e+04</td>\n",
       "    </tr>\n",
       "    <tr>\n",
       "      <th>Sub_GGGrade</th>\n",
       "      <td>87500.0</td>\n",
       "      <td>2.202489e+01</td>\n",
       "      <td>6.452697e+00</td>\n",
       "      <td>11.0</td>\n",
       "      <td>1.700000e+01</td>\n",
       "      <td>2.100000e+01</td>\n",
       "      <td>2.600000e+01</td>\n",
       "      <td>4.500000e+01</td>\n",
       "    </tr>\n",
       "    <tr>\n",
       "      <th>Account_Open</th>\n",
       "      <td>87500.0</td>\n",
       "      <td>1.277944e+01</td>\n",
       "      <td>5.371160e+00</td>\n",
       "      <td>2.0</td>\n",
       "      <td>9.000000e+00</td>\n",
       "      <td>1.200000e+01</td>\n",
       "      <td>1.600000e+01</td>\n",
       "      <td>8.300000e+01</td>\n",
       "    </tr>\n",
       "    <tr>\n",
       "      <th>Total_Unpaid_CL</th>\n",
       "      <td>83314.0</td>\n",
       "      <td>5.326864e+04</td>\n",
       "      <td>5.325551e+04</td>\n",
       "      <td>332.0</td>\n",
       "      <td>2.324000e+04</td>\n",
       "      <td>3.967400e+04</td>\n",
       "      <td>6.640000e+04</td>\n",
       "      <td>1.710630e+06</td>\n",
       "    </tr>\n",
       "    <tr>\n",
       "      <th>Unpaid_Amount</th>\n",
       "      <td>82648.0</td>\n",
       "      <td>2.955649e+04</td>\n",
       "      <td>3.745625e+04</td>\n",
       "      <td>0.0</td>\n",
       "      <td>1.144674e+04</td>\n",
       "      <td>2.089278e+04</td>\n",
       "      <td>3.644908e+04</td>\n",
       "      <td>1.338778e+06</td>\n",
       "    </tr>\n",
       "    <tr>\n",
       "      <th>Due_Fee</th>\n",
       "      <td>87500.0</td>\n",
       "      <td>3.164072e-01</td>\n",
       "      <td>3.546087e+00</td>\n",
       "      <td>0.0</td>\n",
       "      <td>0.000000e+00</td>\n",
       "      <td>0.000000e+00</td>\n",
       "      <td>0.000000e+00</td>\n",
       "      <td>1.690500e+02</td>\n",
       "    </tr>\n",
       "    <tr>\n",
       "      <th>Loan/No_Loan</th>\n",
       "      <td>87500.0</td>\n",
       "      <td>1.887086e-01</td>\n",
       "      <td>3.912792e-01</td>\n",
       "      <td>0.0</td>\n",
       "      <td>0.000000e+00</td>\n",
       "      <td>0.000000e+00</td>\n",
       "      <td>0.000000e+00</td>\n",
       "      <td>1.000000e+00</td>\n",
       "    </tr>\n",
       "  </tbody>\n",
       "</table>\n",
       "</div>"
      ],
      "text/plain": [
       "                       count          mean           std      min  \\\n",
       "ID                   87500.0  8.394625e+04  3.610010e+04  21560.0   \n",
       "Asst_Reg             87500.0  3.798914e+06  2.289038e+06  24847.0   \n",
       "Yearly_Income        81925.0  1.348596e+05  9.882473e+04   8800.0   \n",
       "Unpaid_2_years       87500.0  3.329371e-01  8.760799e-01      0.0   \n",
       "Already_Defaulted    87500.0  5.725714e-03  8.350455e-02      0.0   \n",
       "Debt_to_Income       84011.0  3.094266e+01  1.407981e+01      0.0   \n",
       "Postal_Code          86111.0  5.115539e+04  3.121123e+04   1000.0   \n",
       "Lend_Amount          87500.0  2.592054e+04  1.443384e+04   1710.0   \n",
       "Deprecatory_Records  87500.0  2.024000e-01  6.464135e-01      0.0   \n",
       "Interest_Charged     87500.0  1.651837e+01  4.902011e+00      8.0   \n",
       "Usage_Rate           87500.0  9.551735e+01  4.055404e+01      0.0   \n",
       "Inquiries            87500.0  6.706400e-01  9.595719e-01      0.0   \n",
       "Present_Balance      87500.0  2.363895e+05  2.550568e+05      0.0   \n",
       "Gross_Collection     87500.0  3.946170e+01  3.919196e+02      0.0   \n",
       "Sub_GGGrade          87500.0  2.202489e+01  6.452697e+00     11.0   \n",
       "Account_Open         87500.0  1.277944e+01  5.371160e+00      2.0   \n",
       "Total_Unpaid_CL      83314.0  5.326864e+04  5.325551e+04    332.0   \n",
       "Unpaid_Amount        82648.0  2.955649e+04  3.745625e+04      0.0   \n",
       "Due_Fee              87500.0  3.164072e-01  3.546087e+00      0.0   \n",
       "Loan/No_Loan         87500.0  1.887086e-01  3.912792e-01      0.0   \n",
       "\n",
       "                              25%           50%           75%           max  \n",
       "ID                   5.261675e+04  8.390000e+04  1.152612e+05  1.465590e+05  \n",
       "Asst_Reg             1.483874e+06  4.132010e+06  5.952909e+06  7.351847e+06  \n",
       "Yearly_Income        8.324659e+04  1.144000e+05  1.601600e+05  8.264031e+06  \n",
       "Unpaid_2_years       0.000000e+00  0.000000e+00  0.000000e+00  1.800000e+01  \n",
       "Already_Defaulted    0.000000e+00  0.000000e+00  0.000000e+00  6.000000e+00  \n",
       "Debt_to_Income       2.042880e+01  3.013920e+01  4.090800e+01  6.392904e+02  \n",
       "Postal_Code          2.290000e+04  4.770000e+04  8.020000e+04  9.990000e+04  \n",
       "Lend_Amount          1.504800e+04  2.394000e+04  3.420000e+04  5.985000e+04  \n",
       "Deprecatory_Records  0.000000e+00  0.000000e+00  0.000000e+00  8.600000e+01  \n",
       "Interest_Charged     1.231000e+01  1.649000e+01  2.077000e+01  2.500000e+01  \n",
       "Usage_Rate           6.604800e+01  9.700800e+01  1.265920e+02  1.534756e+03  \n",
       "Inquiries            0.000000e+00  0.000000e+00  1.000000e+00  8.000000e+00  \n",
       "Present_Balance      5.173493e+04  1.388062e+05  3.534755e+05  5.629234e+06  \n",
       "Gross_Collection     0.000000e+00  0.000000e+00  0.000000e+00  2.630847e+04  \n",
       "Sub_GGGrade          1.700000e+01  2.100000e+01  2.600000e+01  4.500000e+01  \n",
       "Account_Open         9.000000e+00  1.200000e+01  1.600000e+01  8.300000e+01  \n",
       "Total_Unpaid_CL      2.324000e+04  3.967400e+04  6.640000e+04  1.710630e+06  \n",
       "Unpaid_Amount        1.144674e+04  2.089278e+04  3.644908e+04  1.338778e+06  \n",
       "Due_Fee              0.000000e+00  0.000000e+00  0.000000e+00  1.690500e+02  \n",
       "Loan/No_Loan         0.000000e+00  0.000000e+00  0.000000e+00  1.000000e+00  "
      ]
     },
     "execution_count": 6,
     "metadata": {},
     "output_type": "execute_result"
    }
   ],
   "source": [
    "# let's decsribe the train set\n",
    "\n",
    "train.describe().T"
   ]
  },
  {
   "cell_type": "code",
   "execution_count": 7,
   "metadata": {},
   "outputs": [
    {
     "data": {
      "text/html": [
       "<div>\n",
       "<style scoped>\n",
       "    .dataframe tbody tr th:only-of-type {\n",
       "        vertical-align: middle;\n",
       "    }\n",
       "\n",
       "    .dataframe tbody tr th {\n",
       "        vertical-align: top;\n",
       "    }\n",
       "\n",
       "    .dataframe thead th {\n",
       "        text-align: right;\n",
       "    }\n",
       "</style>\n",
       "<table border=\"1\" class=\"dataframe\">\n",
       "  <thead>\n",
       "    <tr style=\"text-align: right;\">\n",
       "      <th></th>\n",
       "      <th>count</th>\n",
       "      <th>mean</th>\n",
       "      <th>std</th>\n",
       "      <th>min</th>\n",
       "      <th>25%</th>\n",
       "      <th>50%</th>\n",
       "      <th>75%</th>\n",
       "      <th>max</th>\n",
       "    </tr>\n",
       "  </thead>\n",
       "  <tbody>\n",
       "    <tr>\n",
       "      <th>ID</th>\n",
       "      <td>37500.0</td>\n",
       "      <td>1.841439e+05</td>\n",
       "      <td>2.168322e+04</td>\n",
       "      <td>146560.0</td>\n",
       "      <td>1.653412e+05</td>\n",
       "      <td>1.842570e+05</td>\n",
       "      <td>2.028692e+05</td>\n",
       "      <td>221557.000</td>\n",
       "    </tr>\n",
       "    <tr>\n",
       "      <th>Asst_Reg</th>\n",
       "      <td>37500.0</td>\n",
       "      <td>3.804858e+06</td>\n",
       "      <td>2.284115e+06</td>\n",
       "      <td>37522.0</td>\n",
       "      <td>1.495828e+06</td>\n",
       "      <td>4.134010e+06</td>\n",
       "      <td>5.934898e+06</td>\n",
       "      <td>7351969.000</td>\n",
       "    </tr>\n",
       "    <tr>\n",
       "      <th>Yearly_Income</th>\n",
       "      <td>35075.0</td>\n",
       "      <td>1.340308e+05</td>\n",
       "      <td>1.000845e+05</td>\n",
       "      <td>8800.0</td>\n",
       "      <td>8.419400e+04</td>\n",
       "      <td>1.144000e+05</td>\n",
       "      <td>1.584000e+05</td>\n",
       "      <td>8800000.000</td>\n",
       "    </tr>\n",
       "    <tr>\n",
       "      <th>Unpaid_2_years</th>\n",
       "      <td>37500.0</td>\n",
       "      <td>3.364267e-01</td>\n",
       "      <td>8.876400e-01</td>\n",
       "      <td>0.0</td>\n",
       "      <td>0.000000e+00</td>\n",
       "      <td>0.000000e+00</td>\n",
       "      <td>0.000000e+00</td>\n",
       "      <td>18.000</td>\n",
       "    </tr>\n",
       "    <tr>\n",
       "      <th>Already_Defaulted</th>\n",
       "      <td>37500.0</td>\n",
       "      <td>5.306667e-03</td>\n",
       "      <td>7.796581e-02</td>\n",
       "      <td>0.0</td>\n",
       "      <td>0.000000e+00</td>\n",
       "      <td>0.000000e+00</td>\n",
       "      <td>0.000000e+00</td>\n",
       "      <td>3.000</td>\n",
       "    </tr>\n",
       "    <tr>\n",
       "      <th>Debt_to_Income</th>\n",
       "      <td>35989.0</td>\n",
       "      <td>3.091903e+01</td>\n",
       "      <td>1.387167e+01</td>\n",
       "      <td>0.0</td>\n",
       "      <td>2.047920e+01</td>\n",
       "      <td>3.018960e+01</td>\n",
       "      <td>4.072320e+01</td>\n",
       "      <td>116.508</td>\n",
       "    </tr>\n",
       "    <tr>\n",
       "      <th>Postal_Code</th>\n",
       "      <td>36889.0</td>\n",
       "      <td>5.123395e+04</td>\n",
       "      <td>3.125043e+04</td>\n",
       "      <td>1000.0</td>\n",
       "      <td>2.290000e+04</td>\n",
       "      <td>4.780000e+04</td>\n",
       "      <td>8.020000e+04</td>\n",
       "      <td>99900.000</td>\n",
       "    </tr>\n",
       "    <tr>\n",
       "      <th>Lend_Amount</th>\n",
       "      <td>37500.0</td>\n",
       "      <td>2.582800e+04</td>\n",
       "      <td>1.440206e+04</td>\n",
       "      <td>1710.0</td>\n",
       "      <td>1.491975e+04</td>\n",
       "      <td>2.381175e+04</td>\n",
       "      <td>3.420000e+04</td>\n",
       "      <td>59850.000</td>\n",
       "    </tr>\n",
       "    <tr>\n",
       "      <th>Deprecatory_Records</th>\n",
       "      <td>37500.0</td>\n",
       "      <td>2.000800e-01</td>\n",
       "      <td>5.631369e-01</td>\n",
       "      <td>0.0</td>\n",
       "      <td>0.000000e+00</td>\n",
       "      <td>0.000000e+00</td>\n",
       "      <td>0.000000e+00</td>\n",
       "      <td>21.000</td>\n",
       "    </tr>\n",
       "    <tr>\n",
       "      <th>Interest_Charged</th>\n",
       "      <td>37500.0</td>\n",
       "      <td>1.651101e+01</td>\n",
       "      <td>4.912595e+00</td>\n",
       "      <td>8.0</td>\n",
       "      <td>1.225000e+01</td>\n",
       "      <td>1.651500e+01</td>\n",
       "      <td>2.077000e+01</td>\n",
       "      <td>25.000</td>\n",
       "    </tr>\n",
       "    <tr>\n",
       "      <th>Usage_Rate</th>\n",
       "      <td>37500.0</td>\n",
       "      <td>9.525911e+01</td>\n",
       "      <td>4.049322e+01</td>\n",
       "      <td>0.0</td>\n",
       "      <td>6.553200e+01</td>\n",
       "      <td>9.649200e+01</td>\n",
       "      <td>1.267640e+02</td>\n",
       "      <td>254.560</td>\n",
       "    </tr>\n",
       "    <tr>\n",
       "      <th>Inquiries</th>\n",
       "      <td>37500.0</td>\n",
       "      <td>6.766400e-01</td>\n",
       "      <td>9.645153e-01</td>\n",
       "      <td>0.0</td>\n",
       "      <td>0.000000e+00</td>\n",
       "      <td>0.000000e+00</td>\n",
       "      <td>1.000000e+00</td>\n",
       "      <td>6.000</td>\n",
       "    </tr>\n",
       "    <tr>\n",
       "      <th>Present_Balance</th>\n",
       "      <td>37500.0</td>\n",
       "      <td>2.353528e+05</td>\n",
       "      <td>2.543097e+05</td>\n",
       "      <td>0.0</td>\n",
       "      <td>5.129572e+04</td>\n",
       "      <td>1.383795e+05</td>\n",
       "      <td>3.514983e+05</td>\n",
       "      <td>4909890.180</td>\n",
       "    </tr>\n",
       "    <tr>\n",
       "      <th>Gross_Collection</th>\n",
       "      <td>37500.0</td>\n",
       "      <td>3.948407e+01</td>\n",
       "      <td>3.641146e+02</td>\n",
       "      <td>0.0</td>\n",
       "      <td>0.000000e+00</td>\n",
       "      <td>0.000000e+00</td>\n",
       "      <td>0.000000e+00</td>\n",
       "      <td>13900.000</td>\n",
       "    </tr>\n",
       "    <tr>\n",
       "      <th>Sub_GGGrade</th>\n",
       "      <td>37500.0</td>\n",
       "      <td>2.203147e+01</td>\n",
       "      <td>6.481257e+00</td>\n",
       "      <td>11.0</td>\n",
       "      <td>1.700000e+01</td>\n",
       "      <td>2.100000e+01</td>\n",
       "      <td>2.600000e+01</td>\n",
       "      <td>45.000</td>\n",
       "    </tr>\n",
       "    <tr>\n",
       "      <th>Account_Open</th>\n",
       "      <td>37500.0</td>\n",
       "      <td>1.277779e+01</td>\n",
       "      <td>5.360527e+00</td>\n",
       "      <td>2.0</td>\n",
       "      <td>9.000000e+00</td>\n",
       "      <td>1.200000e+01</td>\n",
       "      <td>1.500000e+01</td>\n",
       "      <td>60.000</td>\n",
       "    </tr>\n",
       "    <tr>\n",
       "      <th>Total_Unpaid_CL</th>\n",
       "      <td>35686.0</td>\n",
       "      <td>5.344820e+04</td>\n",
       "      <td>5.215483e+04</td>\n",
       "      <td>332.0</td>\n",
       "      <td>2.324000e+04</td>\n",
       "      <td>3.950800e+04</td>\n",
       "      <td>6.640000e+04</td>\n",
       "      <td>1475408.000</td>\n",
       "    </tr>\n",
       "    <tr>\n",
       "      <th>Unpaid_Amount</th>\n",
       "      <td>35431.0</td>\n",
       "      <td>2.928066e+04</td>\n",
       "      <td>3.560849e+04</td>\n",
       "      <td>0.0</td>\n",
       "      <td>1.141425e+04</td>\n",
       "      <td>2.068074e+04</td>\n",
       "      <td>3.618446e+04</td>\n",
       "      <td>1535829.660</td>\n",
       "    </tr>\n",
       "    <tr>\n",
       "      <th>Due_Fee</th>\n",
       "      <td>37500.0</td>\n",
       "      <td>3.097915e-01</td>\n",
       "      <td>3.396315e+00</td>\n",
       "      <td>0.0</td>\n",
       "      <td>0.000000e+00</td>\n",
       "      <td>0.000000e+00</td>\n",
       "      <td>0.000000e+00</td>\n",
       "      <td>131.490</td>\n",
       "    </tr>\n",
       "  </tbody>\n",
       "</table>\n",
       "</div>"
      ],
      "text/plain": [
       "                       count          mean           std       min  \\\n",
       "ID                   37500.0  1.841439e+05  2.168322e+04  146560.0   \n",
       "Asst_Reg             37500.0  3.804858e+06  2.284115e+06   37522.0   \n",
       "Yearly_Income        35075.0  1.340308e+05  1.000845e+05    8800.0   \n",
       "Unpaid_2_years       37500.0  3.364267e-01  8.876400e-01       0.0   \n",
       "Already_Defaulted    37500.0  5.306667e-03  7.796581e-02       0.0   \n",
       "Debt_to_Income       35989.0  3.091903e+01  1.387167e+01       0.0   \n",
       "Postal_Code          36889.0  5.123395e+04  3.125043e+04    1000.0   \n",
       "Lend_Amount          37500.0  2.582800e+04  1.440206e+04    1710.0   \n",
       "Deprecatory_Records  37500.0  2.000800e-01  5.631369e-01       0.0   \n",
       "Interest_Charged     37500.0  1.651101e+01  4.912595e+00       8.0   \n",
       "Usage_Rate           37500.0  9.525911e+01  4.049322e+01       0.0   \n",
       "Inquiries            37500.0  6.766400e-01  9.645153e-01       0.0   \n",
       "Present_Balance      37500.0  2.353528e+05  2.543097e+05       0.0   \n",
       "Gross_Collection     37500.0  3.948407e+01  3.641146e+02       0.0   \n",
       "Sub_GGGrade          37500.0  2.203147e+01  6.481257e+00      11.0   \n",
       "Account_Open         37500.0  1.277779e+01  5.360527e+00       2.0   \n",
       "Total_Unpaid_CL      35686.0  5.344820e+04  5.215483e+04     332.0   \n",
       "Unpaid_Amount        35431.0  2.928066e+04  3.560849e+04       0.0   \n",
       "Due_Fee              37500.0  3.097915e-01  3.396315e+00       0.0   \n",
       "\n",
       "                              25%           50%           75%          max  \n",
       "ID                   1.653412e+05  1.842570e+05  2.028692e+05   221557.000  \n",
       "Asst_Reg             1.495828e+06  4.134010e+06  5.934898e+06  7351969.000  \n",
       "Yearly_Income        8.419400e+04  1.144000e+05  1.584000e+05  8800000.000  \n",
       "Unpaid_2_years       0.000000e+00  0.000000e+00  0.000000e+00       18.000  \n",
       "Already_Defaulted    0.000000e+00  0.000000e+00  0.000000e+00        3.000  \n",
       "Debt_to_Income       2.047920e+01  3.018960e+01  4.072320e+01      116.508  \n",
       "Postal_Code          2.290000e+04  4.780000e+04  8.020000e+04    99900.000  \n",
       "Lend_Amount          1.491975e+04  2.381175e+04  3.420000e+04    59850.000  \n",
       "Deprecatory_Records  0.000000e+00  0.000000e+00  0.000000e+00       21.000  \n",
       "Interest_Charged     1.225000e+01  1.651500e+01  2.077000e+01       25.000  \n",
       "Usage_Rate           6.553200e+01  9.649200e+01  1.267640e+02      254.560  \n",
       "Inquiries            0.000000e+00  0.000000e+00  1.000000e+00        6.000  \n",
       "Present_Balance      5.129572e+04  1.383795e+05  3.514983e+05  4909890.180  \n",
       "Gross_Collection     0.000000e+00  0.000000e+00  0.000000e+00    13900.000  \n",
       "Sub_GGGrade          1.700000e+01  2.100000e+01  2.600000e+01       45.000  \n",
       "Account_Open         9.000000e+00  1.200000e+01  1.500000e+01       60.000  \n",
       "Total_Unpaid_CL      2.324000e+04  3.950800e+04  6.640000e+04  1475408.000  \n",
       "Unpaid_Amount        1.141425e+04  2.068074e+04  3.618446e+04  1535829.660  \n",
       "Due_Fee              0.000000e+00  0.000000e+00  0.000000e+00      131.490  "
      ]
     },
     "execution_count": 7,
     "metadata": {},
     "output_type": "execute_result"
    }
   ],
   "source": [
    "# let's decsribe the train set\n",
    "\n",
    "test.describe().T"
   ]
  },
  {
   "cell_type": "code",
   "execution_count": 8,
   "metadata": {},
   "outputs": [
    {
     "name": "stdout",
     "output_type": "stream",
     "text": [
      "<class 'pandas.core.frame.DataFrame'>\n",
      "RangeIndex: 87500 entries, 0 to 87499\n",
      "Data columns (total 30 columns):\n",
      " #   Column               Non-Null Count  Dtype  \n",
      "---  ------               --------------  -----  \n",
      " 0   ID                   87500 non-null  int64  \n",
      " 1   Asst_Reg             87500 non-null  int64  \n",
      " 2   GGGrade              87500 non-null  object \n",
      " 3   Experience           87500 non-null  object \n",
      " 4   Validation           87500 non-null  object \n",
      " 5   Yearly_Income        81925 non-null  float64\n",
      " 6   Home_Status          87500 non-null  object \n",
      " 7   Unpaid_2_years       87500 non-null  int64  \n",
      " 8   Already_Defaulted    87500 non-null  int64  \n",
      " 9   Designation          86086 non-null  object \n",
      " 10  Debt_to_Income       84011 non-null  float64\n",
      " 11  Postal_Code          86111 non-null  float64\n",
      " 12  Lend_Amount          87500 non-null  float64\n",
      " 13  Deprecatory_Records  87500 non-null  int64  \n",
      " 14  Interest_Charged     87500 non-null  float64\n",
      " 15  Usage_Rate           87500 non-null  float64\n",
      " 16  Inquiries            87500 non-null  int64  \n",
      " 17  Present_Balance      87500 non-null  float64\n",
      " 18  Gross_Collection     87500 non-null  float64\n",
      " 19  Sub_GGGrade          87500 non-null  int64  \n",
      " 20  File_Status          87500 non-null  object \n",
      " 21  State                87500 non-null  object \n",
      " 22  Account_Open         87500 non-null  int64  \n",
      " 23  Total_Unpaid_CL      83314 non-null  float64\n",
      " 24  Duration             87500 non-null  object \n",
      " 25  Unpaid_Amount        82648 non-null  float64\n",
      " 26  Reason               87500 non-null  object \n",
      " 27  Claim_Type           87500 non-null  object \n",
      " 28  Due_Fee              87500 non-null  float64\n",
      " 29  Loan/No_Loan         87500 non-null  int64  \n",
      "dtypes: float64(11), int64(9), object(10)\n",
      "memory usage: 20.0+ MB\n"
     ]
    }
   ],
   "source": [
    "train.info()"
   ]
  },
  {
   "cell_type": "code",
   "execution_count": 9,
   "metadata": {},
   "outputs": [
    {
     "name": "stdout",
     "output_type": "stream",
     "text": [
      "<class 'pandas.core.frame.DataFrame'>\n",
      "RangeIndex: 37500 entries, 0 to 37499\n",
      "Data columns (total 29 columns):\n",
      " #   Column               Non-Null Count  Dtype  \n",
      "---  ------               --------------  -----  \n",
      " 0   ID                   37500 non-null  int64  \n",
      " 1   Asst_Reg             37500 non-null  int64  \n",
      " 2   GGGrade              37500 non-null  object \n",
      " 3   Experience           37500 non-null  object \n",
      " 4   Validation           37500 non-null  object \n",
      " 5   Yearly_Income        35075 non-null  float64\n",
      " 6   Home_Status          37500 non-null  object \n",
      " 7   Unpaid_2_years       37500 non-null  int64  \n",
      " 8   Already_Defaulted    37500 non-null  int64  \n",
      " 9   Designation          36914 non-null  object \n",
      " 10  Debt_to_Income       35989 non-null  float64\n",
      " 11  Postal_Code          36889 non-null  float64\n",
      " 12  Lend_Amount          37500 non-null  float64\n",
      " 13  Deprecatory_Records  37500 non-null  int64  \n",
      " 14  Interest_Charged     37500 non-null  float64\n",
      " 15  Usage_Rate           37500 non-null  float64\n",
      " 16  Inquiries            37500 non-null  int64  \n",
      " 17  Present_Balance      37500 non-null  float64\n",
      " 18  Gross_Collection     37500 non-null  float64\n",
      " 19  Sub_GGGrade          37500 non-null  int64  \n",
      " 20  File_Status          37500 non-null  object \n",
      " 21  State                37500 non-null  object \n",
      " 22  Account_Open         37500 non-null  int64  \n",
      " 23  Total_Unpaid_CL      35686 non-null  float64\n",
      " 24  Duration             37500 non-null  object \n",
      " 25  Unpaid_Amount        35431 non-null  float64\n",
      " 26  Reason               37500 non-null  object \n",
      " 27  Claim_Type           37500 non-null  object \n",
      " 28  Due_Fee              37500 non-null  float64\n",
      "dtypes: float64(11), int64(8), object(10)\n",
      "memory usage: 8.3+ MB\n"
     ]
    }
   ],
   "source": [
    "test.info()"
   ]
  },
  {
   "cell_type": "code",
   "execution_count": 10,
   "metadata": {},
   "outputs": [
    {
     "data": {
      "text/plain": [
       "ID                        0\n",
       "Asst_Reg                  0\n",
       "GGGrade                   0\n",
       "Experience                0\n",
       "Validation                0\n",
       "Yearly_Income          5575\n",
       "Home_Status               0\n",
       "Unpaid_2_years            0\n",
       "Already_Defaulted         0\n",
       "Designation            1414\n",
       "Debt_to_Income         3489\n",
       "Postal_Code            1389\n",
       "Lend_Amount               0\n",
       "Deprecatory_Records       0\n",
       "Interest_Charged          0\n",
       "Usage_Rate                0\n",
       "Inquiries                 0\n",
       "Present_Balance           0\n",
       "Gross_Collection          0\n",
       "Sub_GGGrade               0\n",
       "File_Status               0\n",
       "State                     0\n",
       "Account_Open              0\n",
       "Total_Unpaid_CL        4186\n",
       "Duration                  0\n",
       "Unpaid_Amount          4852\n",
       "Reason                    0\n",
       "Claim_Type                0\n",
       "Due_Fee                   0\n",
       "Loan/No_Loan              0\n",
       "dtype: int64"
      ]
     },
     "execution_count": 10,
     "metadata": {},
     "output_type": "execute_result"
    }
   ],
   "source": [
    "# checking if there exists any NULL values in the train set\n",
    "\n",
    "train.isnull().sum()"
   ]
  },
  {
   "cell_type": "code",
   "execution_count": 11,
   "metadata": {},
   "outputs": [
    {
     "data": {
      "text/plain": [
       "ID                        0\n",
       "Asst_Reg                  0\n",
       "GGGrade                   0\n",
       "Experience                0\n",
       "Validation                0\n",
       "Yearly_Income          2425\n",
       "Home_Status               0\n",
       "Unpaid_2_years            0\n",
       "Already_Defaulted         0\n",
       "Designation             586\n",
       "Debt_to_Income         1511\n",
       "Postal_Code             611\n",
       "Lend_Amount               0\n",
       "Deprecatory_Records       0\n",
       "Interest_Charged          0\n",
       "Usage_Rate                0\n",
       "Inquiries                 0\n",
       "Present_Balance           0\n",
       "Gross_Collection          0\n",
       "Sub_GGGrade               0\n",
       "File_Status               0\n",
       "State                     0\n",
       "Account_Open              0\n",
       "Total_Unpaid_CL        1814\n",
       "Duration                  0\n",
       "Unpaid_Amount          2069\n",
       "Reason                    0\n",
       "Claim_Type                0\n",
       "Due_Fee                   0\n",
       "dtype: int64"
      ]
     },
     "execution_count": 11,
     "metadata": {},
     "output_type": "execute_result"
    }
   ],
   "source": [
    "# checking if there exists any NULL values in the test set\n",
    "\n",
    "test.isnull().sum()"
   ]
  },
  {
   "cell_type": "code",
   "execution_count": 12,
   "metadata": {},
   "outputs": [],
   "source": [
    "# filling the missing values in train as well as test set"
   ]
  },
  {
   "cell_type": "code",
   "execution_count": 13,
   "metadata": {},
   "outputs": [
    {
     "name": "stdout",
     "output_type": "stream",
     "text": [
      "Null values left in the train set: 0\n",
      "Null values left in the test set: 0\n"
     ]
    }
   ],
   "source": [
    "# Replacing missing values from the selected columns with mean\n",
    "\n",
    "train['Postal_Code'].fillna(train['Postal_Code'].mean(), inplace=True)\n",
    "train['Yearly_Income'].fillna(train['Yearly_Income'].median(), inplace=True)\n",
    "train['Debt_to_Income'].fillna(train['Debt_to_Income'].median(), inplace=True)\n",
    "train['Total_Unpaid_CL'].fillna(train['Total_Unpaid_CL'].median(), inplace=True)\n",
    "train['Unpaid_Amount'].fillna(train['Unpaid_Amount'].median(), inplace=True)\n",
    "train['Designation'].fillna(train['Designation'].mode()[0], inplace=True)\n",
    "\n",
    "test['Postal_Code'].fillna(test['Postal_Code'].mean(), inplace=True)\n",
    "test['Yearly_Income'].fillna(test['Yearly_Income'].median(), inplace=True)\n",
    "test['Debt_to_Income'].fillna(test['Debt_to_Income'].median(), inplace=True)\n",
    "test['Total_Unpaid_CL'].fillna(test['Total_Unpaid_CL'].median(), inplace=True)\n",
    "test['Unpaid_Amount'].fillna(test['Unpaid_Amount'].median(), inplace=True)\n",
    "test['Designation'].fillna(test['Designation'].mode()[0], inplace=True)\n",
    "\n",
    "\n",
    "# let's check if there is any null values still left or not\n",
    "print(\"Null values left in the train set:\", train.isnull().sum().sum())\n",
    "print(\"Null values left in the test set:\", test.isnull().sum().sum())"
   ]
  },
  {
   "cell_type": "code",
   "execution_count": 14,
   "metadata": {},
   "outputs": [
    {
     "data": {
      "text/plain": [
       "(87500, 29)"
      ]
     },
     "execution_count": 14,
     "metadata": {},
     "output_type": "execute_result"
    }
   ],
   "source": [
    "# let's save the unique id of the test set and labels set\n",
    "\n",
    "unique_id = test['ID']\n",
    "y_train_t = train.iloc[:, -1]\n",
    "\n",
    "# let's delete the last column from the dataset to  concat train and test\n",
    "train = train.drop(['Loan/No_Loan'], axis = 1)\n",
    "\n",
    "# shape of train\n",
    "train.shape"
   ]
  },
  {
   "cell_type": "code",
   "execution_count": 15,
   "metadata": {},
   "outputs": [
    {
     "data": {
      "text/plain": [
       "(125000, 29)"
      ]
     },
     "execution_count": 15,
     "metadata": {},
     "output_type": "execute_result"
    }
   ],
   "source": [
    "# lets concat the train and test sets for preprocessing and visualizations\n",
    "\n",
    "data = pd.concat([train, test], axis = 0)\n",
    "\n",
    "# let's check the shape\n",
    "data.shape"
   ]
  },
  {
   "cell_type": "code",
   "execution_count": 16,
   "metadata": {},
   "outputs": [
    {
     "data": {
      "text/plain": [
       "Index(['ID', 'Asst_Reg', 'GGGrade', 'Experience', 'Validation',\n",
       "       'Yearly_Income', 'Home_Status', 'Unpaid_2_years', 'Already_Defaulted',\n",
       "       'Designation', 'Debt_to_Income', 'Postal_Code', 'Lend_Amount',\n",
       "       'Deprecatory_Records', 'Interest_Charged', 'Usage_Rate', 'Inquiries',\n",
       "       'Present_Balance', 'Gross_Collection', 'Sub_GGGrade', 'File_Status',\n",
       "       'State', 'Account_Open', 'Total_Unpaid_CL', 'Duration', 'Unpaid_Amount',\n",
       "       'Reason', 'Claim_Type', 'Due_Fee'],\n",
       "      dtype='object')"
      ]
     },
     "execution_count": 16,
     "metadata": {},
     "output_type": "execute_result"
    }
   ],
   "source": [
    "# checking the columns names of the data\n",
    "\n",
    "data.columns"
   ]
  },
  {
   "cell_type": "code",
   "execution_count": 17,
   "metadata": {},
   "outputs": [
    {
     "data": {
      "text/html": [
       "<div>\n",
       "<style scoped>\n",
       "    .dataframe tbody tr th:only-of-type {\n",
       "        vertical-align: middle;\n",
       "    }\n",
       "\n",
       "    .dataframe tbody tr th {\n",
       "        vertical-align: top;\n",
       "    }\n",
       "\n",
       "    .dataframe thead th {\n",
       "        text-align: right;\n",
       "    }\n",
       "</style>\n",
       "<table border=\"1\" class=\"dataframe\">\n",
       "  <thead>\n",
       "    <tr style=\"text-align: right;\">\n",
       "      <th></th>\n",
       "      <th>ID</th>\n",
       "      <th>Asst_Reg</th>\n",
       "      <th>Yearly_Income</th>\n",
       "      <th>Unpaid_2_years</th>\n",
       "      <th>Already_Defaulted</th>\n",
       "      <th>Debt_to_Income</th>\n",
       "      <th>Postal_Code</th>\n",
       "      <th>Lend_Amount</th>\n",
       "      <th>Deprecatory_Records</th>\n",
       "      <th>Interest_Charged</th>\n",
       "      <th>Usage_Rate</th>\n",
       "      <th>Inquiries</th>\n",
       "      <th>Present_Balance</th>\n",
       "      <th>Gross_Collection</th>\n",
       "      <th>Sub_GGGrade</th>\n",
       "      <th>Account_Open</th>\n",
       "      <th>Total_Unpaid_CL</th>\n",
       "      <th>Unpaid_Amount</th>\n",
       "      <th>Due_Fee</th>\n",
       "    </tr>\n",
       "  </thead>\n",
       "  <tbody>\n",
       "    <tr>\n",
       "      <th>0</th>\n",
       "      <td>95074</td>\n",
       "      <td>421802</td>\n",
       "      <td>633600.00</td>\n",
       "      <td>0</td>\n",
       "      <td>0</td>\n",
       "      <td>12.5496</td>\n",
       "      <td>91300.0</td>\n",
       "      <td>42023.25</td>\n",
       "      <td>0</td>\n",
       "      <td>15.39</td>\n",
       "      <td>88.924</td>\n",
       "      <td>3</td>\n",
       "      <td>607161.90</td>\n",
       "      <td>0.0</td>\n",
       "      <td>19</td>\n",
       "      <td>17</td>\n",
       "      <td>58598.0</td>\n",
       "      <td>31216.05</td>\n",
       "      <td>0.0</td>\n",
       "    </tr>\n",
       "    <tr>\n",
       "      <th>1</th>\n",
       "      <td>134131</td>\n",
       "      <td>3964312</td>\n",
       "      <td>85483.20</td>\n",
       "      <td>0</td>\n",
       "      <td>0</td>\n",
       "      <td>9.0048</td>\n",
       "      <td>27400.0</td>\n",
       "      <td>38133.00</td>\n",
       "      <td>0</td>\n",
       "      <td>9.94</td>\n",
       "      <td>102.856</td>\n",
       "      <td>0</td>\n",
       "      <td>269234.06</td>\n",
       "      <td>0.0</td>\n",
       "      <td>30</td>\n",
       "      <td>15</td>\n",
       "      <td>18924.0</td>\n",
       "      <td>11660.49</td>\n",
       "      <td>0.0</td>\n",
       "    </tr>\n",
       "    <tr>\n",
       "      <th>2</th>\n",
       "      <td>92602</td>\n",
       "      <td>4247560</td>\n",
       "      <td>79200.00</td>\n",
       "      <td>0</td>\n",
       "      <td>0</td>\n",
       "      <td>24.9144</td>\n",
       "      <td>32800.0</td>\n",
       "      <td>17100.00</td>\n",
       "      <td>0</td>\n",
       "      <td>22.35</td>\n",
       "      <td>60.372</td>\n",
       "      <td>0</td>\n",
       "      <td>22476.53</td>\n",
       "      <td>0.0</td>\n",
       "      <td>25</td>\n",
       "      <td>7</td>\n",
       "      <td>15604.0</td>\n",
       "      <td>5637.87</td>\n",
       "      <td>0.0</td>\n",
       "    </tr>\n",
       "    <tr>\n",
       "      <th>3</th>\n",
       "      <td>22591</td>\n",
       "      <td>197179</td>\n",
       "      <td>61600.00</td>\n",
       "      <td>0</td>\n",
       "      <td>0</td>\n",
       "      <td>16.5816</td>\n",
       "      <td>7000.0</td>\n",
       "      <td>5130.00</td>\n",
       "      <td>0</td>\n",
       "      <td>10.36</td>\n",
       "      <td>116.272</td>\n",
       "      <td>1</td>\n",
       "      <td>15242.09</td>\n",
       "      <td>0.0</td>\n",
       "      <td>22</td>\n",
       "      <td>9</td>\n",
       "      <td>22410.0</td>\n",
       "      <td>15607.17</td>\n",
       "      <td>0.0</td>\n",
       "    </tr>\n",
       "    <tr>\n",
       "      <th>4</th>\n",
       "      <td>125060</td>\n",
       "      <td>4646684</td>\n",
       "      <td>68053.92</td>\n",
       "      <td>0</td>\n",
       "      <td>0</td>\n",
       "      <td>40.0512</td>\n",
       "      <td>70800.0</td>\n",
       "      <td>19665.00</td>\n",
       "      <td>0</td>\n",
       "      <td>13.68</td>\n",
       "      <td>127.280</td>\n",
       "      <td>1</td>\n",
       "      <td>65433.94</td>\n",
       "      <td>0.0</td>\n",
       "      <td>32</td>\n",
       "      <td>10</td>\n",
       "      <td>36022.0</td>\n",
       "      <td>27472.86</td>\n",
       "      <td>0.0</td>\n",
       "    </tr>\n",
       "  </tbody>\n",
       "</table>\n",
       "</div>"
      ],
      "text/plain": [
       "       ID  Asst_Reg  Yearly_Income  Unpaid_2_years  Already_Defaulted  \\\n",
       "0   95074    421802      633600.00               0                  0   \n",
       "1  134131   3964312       85483.20               0                  0   \n",
       "2   92602   4247560       79200.00               0                  0   \n",
       "3   22591    197179       61600.00               0                  0   \n",
       "4  125060   4646684       68053.92               0                  0   \n",
       "\n",
       "   Debt_to_Income  Postal_Code  Lend_Amount  Deprecatory_Records  \\\n",
       "0         12.5496      91300.0     42023.25                    0   \n",
       "1          9.0048      27400.0     38133.00                    0   \n",
       "2         24.9144      32800.0     17100.00                    0   \n",
       "3         16.5816       7000.0      5130.00                    0   \n",
       "4         40.0512      70800.0     19665.00                    0   \n",
       "\n",
       "   Interest_Charged  Usage_Rate  Inquiries  Present_Balance  Gross_Collection  \\\n",
       "0             15.39      88.924          3        607161.90               0.0   \n",
       "1              9.94     102.856          0        269234.06               0.0   \n",
       "2             22.35      60.372          0         22476.53               0.0   \n",
       "3             10.36     116.272          1         15242.09               0.0   \n",
       "4             13.68     127.280          1         65433.94               0.0   \n",
       "\n",
       "   Sub_GGGrade  Account_Open  Total_Unpaid_CL  Unpaid_Amount  Due_Fee  \n",
       "0           19            17          58598.0       31216.05      0.0  \n",
       "1           30            15          18924.0       11660.49      0.0  \n",
       "2           25             7          15604.0        5637.87      0.0  \n",
       "3           22             9          22410.0       15607.17      0.0  \n",
       "4           32            10          36022.0       27472.86      0.0  "
      ]
     },
     "execution_count": 17,
     "metadata": {},
     "output_type": "execute_result"
    }
   ],
   "source": [
    "numerics = ['int64','float64']\n",
    "data.select_dtypes(include=numerics).head()"
   ]
  },
  {
   "cell_type": "code",
   "execution_count": 18,
   "metadata": {},
   "outputs": [],
   "source": [
    "column_list = ['Asst_Reg','Yearly_Income','Unpaid_2_years','Already_Defaulted','Debt_to_Income',\\\n",
    "                  'Lend_Amount','Deprecatory_Records','Interest_Charged','Usage_Rate','Inquiries',\\\n",
    "                  'Present_Balance','Gross_Collection','Sub_GGGrade','Account_Open','Total_Unpaid_CL',\\\n",
    "                  'Unpaid_Amount','Due_Fee']"
   ]
  },
  {
   "cell_type": "code",
   "execution_count": 19,
   "metadata": {},
   "outputs": [],
   "source": [
    "for i in column_list:\n",
    "    data[i] = data[i]+1"
   ]
  },
  {
   "cell_type": "code",
   "execution_count": 20,
   "metadata": {},
   "outputs": [
    {
     "data": {
      "text/html": [
       "<div>\n",
       "<style scoped>\n",
       "    .dataframe tbody tr th:only-of-type {\n",
       "        vertical-align: middle;\n",
       "    }\n",
       "\n",
       "    .dataframe tbody tr th {\n",
       "        vertical-align: top;\n",
       "    }\n",
       "\n",
       "    .dataframe thead th {\n",
       "        text-align: right;\n",
       "    }\n",
       "</style>\n",
       "<table border=\"1\" class=\"dataframe\">\n",
       "  <thead>\n",
       "    <tr style=\"text-align: right;\">\n",
       "      <th></th>\n",
       "      <th>ID</th>\n",
       "      <th>Asst_Reg</th>\n",
       "      <th>Yearly_Income</th>\n",
       "      <th>Unpaid_2_years</th>\n",
       "      <th>Already_Defaulted</th>\n",
       "      <th>Debt_to_Income</th>\n",
       "      <th>Postal_Code</th>\n",
       "      <th>Lend_Amount</th>\n",
       "      <th>Deprecatory_Records</th>\n",
       "      <th>Interest_Charged</th>\n",
       "      <th>Usage_Rate</th>\n",
       "      <th>Inquiries</th>\n",
       "      <th>Present_Balance</th>\n",
       "      <th>Gross_Collection</th>\n",
       "      <th>Sub_GGGrade</th>\n",
       "      <th>Account_Open</th>\n",
       "      <th>Total_Unpaid_CL</th>\n",
       "      <th>Unpaid_Amount</th>\n",
       "      <th>Due_Fee</th>\n",
       "    </tr>\n",
       "  </thead>\n",
       "  <tbody>\n",
       "    <tr>\n",
       "      <th>0</th>\n",
       "      <td>95074</td>\n",
       "      <td>421803</td>\n",
       "      <td>633601.00</td>\n",
       "      <td>1</td>\n",
       "      <td>1</td>\n",
       "      <td>13.5496</td>\n",
       "      <td>91300.0</td>\n",
       "      <td>42024.25</td>\n",
       "      <td>1</td>\n",
       "      <td>16.39</td>\n",
       "      <td>89.924</td>\n",
       "      <td>4</td>\n",
       "      <td>607162.90</td>\n",
       "      <td>1.0</td>\n",
       "      <td>20</td>\n",
       "      <td>18</td>\n",
       "      <td>58599.0</td>\n",
       "      <td>31217.05</td>\n",
       "      <td>1.0</td>\n",
       "    </tr>\n",
       "    <tr>\n",
       "      <th>1</th>\n",
       "      <td>134131</td>\n",
       "      <td>3964313</td>\n",
       "      <td>85484.20</td>\n",
       "      <td>1</td>\n",
       "      <td>1</td>\n",
       "      <td>10.0048</td>\n",
       "      <td>27400.0</td>\n",
       "      <td>38134.00</td>\n",
       "      <td>1</td>\n",
       "      <td>10.94</td>\n",
       "      <td>103.856</td>\n",
       "      <td>1</td>\n",
       "      <td>269235.06</td>\n",
       "      <td>1.0</td>\n",
       "      <td>31</td>\n",
       "      <td>16</td>\n",
       "      <td>18925.0</td>\n",
       "      <td>11661.49</td>\n",
       "      <td>1.0</td>\n",
       "    </tr>\n",
       "    <tr>\n",
       "      <th>2</th>\n",
       "      <td>92602</td>\n",
       "      <td>4247561</td>\n",
       "      <td>79201.00</td>\n",
       "      <td>1</td>\n",
       "      <td>1</td>\n",
       "      <td>25.9144</td>\n",
       "      <td>32800.0</td>\n",
       "      <td>17101.00</td>\n",
       "      <td>1</td>\n",
       "      <td>23.35</td>\n",
       "      <td>61.372</td>\n",
       "      <td>1</td>\n",
       "      <td>22477.53</td>\n",
       "      <td>1.0</td>\n",
       "      <td>26</td>\n",
       "      <td>8</td>\n",
       "      <td>15605.0</td>\n",
       "      <td>5638.87</td>\n",
       "      <td>1.0</td>\n",
       "    </tr>\n",
       "    <tr>\n",
       "      <th>3</th>\n",
       "      <td>22591</td>\n",
       "      <td>197180</td>\n",
       "      <td>61601.00</td>\n",
       "      <td>1</td>\n",
       "      <td>1</td>\n",
       "      <td>17.5816</td>\n",
       "      <td>7000.0</td>\n",
       "      <td>5131.00</td>\n",
       "      <td>1</td>\n",
       "      <td>11.36</td>\n",
       "      <td>117.272</td>\n",
       "      <td>2</td>\n",
       "      <td>15243.09</td>\n",
       "      <td>1.0</td>\n",
       "      <td>23</td>\n",
       "      <td>10</td>\n",
       "      <td>22411.0</td>\n",
       "      <td>15608.17</td>\n",
       "      <td>1.0</td>\n",
       "    </tr>\n",
       "    <tr>\n",
       "      <th>4</th>\n",
       "      <td>125060</td>\n",
       "      <td>4646685</td>\n",
       "      <td>68054.92</td>\n",
       "      <td>1</td>\n",
       "      <td>1</td>\n",
       "      <td>41.0512</td>\n",
       "      <td>70800.0</td>\n",
       "      <td>19666.00</td>\n",
       "      <td>1</td>\n",
       "      <td>14.68</td>\n",
       "      <td>128.280</td>\n",
       "      <td>2</td>\n",
       "      <td>65434.94</td>\n",
       "      <td>1.0</td>\n",
       "      <td>33</td>\n",
       "      <td>11</td>\n",
       "      <td>36023.0</td>\n",
       "      <td>27473.86</td>\n",
       "      <td>1.0</td>\n",
       "    </tr>\n",
       "  </tbody>\n",
       "</table>\n",
       "</div>"
      ],
      "text/plain": [
       "       ID  Asst_Reg  Yearly_Income  Unpaid_2_years  Already_Defaulted  \\\n",
       "0   95074    421803      633601.00               1                  1   \n",
       "1  134131   3964313       85484.20               1                  1   \n",
       "2   92602   4247561       79201.00               1                  1   \n",
       "3   22591    197180       61601.00               1                  1   \n",
       "4  125060   4646685       68054.92               1                  1   \n",
       "\n",
       "   Debt_to_Income  Postal_Code  Lend_Amount  Deprecatory_Records  \\\n",
       "0         13.5496      91300.0     42024.25                    1   \n",
       "1         10.0048      27400.0     38134.00                    1   \n",
       "2         25.9144      32800.0     17101.00                    1   \n",
       "3         17.5816       7000.0      5131.00                    1   \n",
       "4         41.0512      70800.0     19666.00                    1   \n",
       "\n",
       "   Interest_Charged  Usage_Rate  Inquiries  Present_Balance  Gross_Collection  \\\n",
       "0             16.39      89.924          4        607162.90               1.0   \n",
       "1             10.94     103.856          1        269235.06               1.0   \n",
       "2             23.35      61.372          1         22477.53               1.0   \n",
       "3             11.36     117.272          2         15243.09               1.0   \n",
       "4             14.68     128.280          2         65434.94               1.0   \n",
       "\n",
       "   Sub_GGGrade  Account_Open  Total_Unpaid_CL  Unpaid_Amount  Due_Fee  \n",
       "0           20            18          58599.0       31217.05      1.0  \n",
       "1           31            16          18925.0       11661.49      1.0  \n",
       "2           26             8          15605.0        5638.87      1.0  \n",
       "3           23            10          22411.0       15608.17      1.0  \n",
       "4           33            11          36023.0       27473.86      1.0  "
      ]
     },
     "execution_count": 20,
     "metadata": {},
     "output_type": "execute_result"
    }
   ],
   "source": [
    "data.select_dtypes(include=numerics).head()"
   ]
  },
  {
   "cell_type": "code",
   "execution_count": 21,
   "metadata": {},
   "outputs": [
    {
     "data": {
      "image/png": "[encoded data removed]",
      "text/plain": [
       "<Figure size 1080x1440 with 17 Axes>"
      ]
     },
     "metadata": {
      "needs_background": "light"
     },
     "output_type": "display_data"
    }
   ],
   "source": [
    "# check the distribution of disbursed amount\n",
    "# Before log transformation\n",
    "\n",
    "plt.figure(figsize=(15, 20))\n",
    "\n",
    "plt.subplot(6, 3, 1)\n",
    "sns.distplot(data['Asst_Reg'])\n",
    "\n",
    "plt.subplot(6, 3, 2)\n",
    "sns.distplot(data['Yearly_Income'])\n",
    "\n",
    "plt.subplot(6, 3, 3)\n",
    "sns.distplot(data['Unpaid_2_years'])\n",
    "\n",
    "plt.subplot(6, 3, 4)\n",
    "sns.distplot(data['Already_Defaulted'])\n",
    "\n",
    "plt.subplot(6, 3, 5)\n",
    "sns.distplot(data['Debt_to_Income'])\n",
    "\n",
    "plt.subplot(6, 3, 6)\n",
    "sns.distplot(data['Lend_Amount'])\n",
    "\n",
    "plt.subplot(6, 3, 7)\n",
    "sns.distplot(data['Deprecatory_Records'])\n",
    "\n",
    "plt.subplot(6, 3, 8)\n",
    "sns.distplot(data['Interest_Charged'])\n",
    "\n",
    "plt.subplot(6, 3, 9)\n",
    "sns.distplot(data['Usage_Rate'])\n",
    "\n",
    "plt.subplot(6, 3, 10)\n",
    "sns.distplot(data['Inquiries'])\n",
    "\n",
    "plt.subplot(6, 3, 11)\n",
    "sns.distplot(data['Present_Balance'])\n",
    "\n",
    "plt.subplot(6, 3, 12)\n",
    "sns.distplot(data['Gross_Collection'])\n",
    "\n",
    "plt.subplot(6, 3, 13)\n",
    "sns.distplot(data['Sub_GGGrade'])\n",
    "\n",
    "plt.subplot(6, 3, 14)\n",
    "sns.distplot(data['Account_Open'])\n",
    "\n",
    "plt.subplot(6, 3, 15)\n",
    "sns.distplot(data['Total_Unpaid_CL'])\n",
    "\n",
    "plt.subplot(6, 3, 16)\n",
    "sns.distplot(data['Unpaid_Amount'])\n",
    "\n",
    "plt.subplot(6, 3, 17)\n",
    "sns.distplot(data['Due_Fee'])\n",
    "\n",
    "plt.show()"
   ]
  },
  {
   "cell_type": "code",
   "execution_count": 22,
   "metadata": {},
   "outputs": [],
   "source": [
    "# performing log transformations of variables\n",
    "\n",
    "data['Asst_Reg'] = np.log(data['Asst_Reg'])\n",
    "data['Yearly_Income'] = np.log(data['Yearly_Income'])\n",
    "data['Unpaid_2_years'] = np.log(data['Unpaid_2_years'])\n",
    "data['Already_Defaulted'] = np.log(data['Already_Defaulted'])\n",
    "data['Debt_to_Income'] = np.log(data['Debt_to_Income'])\n",
    "data['Lend_Amount'] = np.log(data['Lend_Amount'])\n",
    "data['Deprecatory_Records'] = np.log(data['Deprecatory_Records'])\n",
    "data['Interest_Charged'] = np.log(data['Interest_Charged'])\n",
    "data['Usage_Rate'] = np.log(data['Usage_Rate'])\n",
    "data['Inquiries'] = np.log(data['Inquiries'])\n",
    "data['Present_Balance'] = np.log(data['Present_Balance'])\n",
    "data['Gross_Collection'] = np.log(data['Gross_Collection'])\n",
    "data['Sub_GGGrade'] = np.log(data['Sub_GGGrade'])\n",
    "data['Account_Open'] = np.log(data['Account_Open'])\n",
    "data['Total_Unpaid_CL'] = np.log(data['Total_Unpaid_CL'])\n",
    "data['Unpaid_Amount'] = np.log(data['Unpaid_Amount'])\n",
    "data['Due_Fee'] = np.log(data['Due_Fee'])"
   ]
  },
  {
   "cell_type": "code",
   "execution_count": 23,
   "metadata": {},
   "outputs": [
    {
     "data": {
      "image/png": "[encoded data removed]",
      "text/plain": [
       "<Figure size 1080x1440 with 17 Axes>"
      ]
     },
     "metadata": {
      "needs_background": "light"
     },
     "output_type": "display_data"
    }
   ],
   "source": [
    "# check the distribution of disbursed amount\n",
    "# After log transformation\n",
    "\n",
    "plt.figure(figsize=(15, 20))\n",
    "\n",
    "plt.subplot(6, 3, 1)\n",
    "sns.distplot(data['Asst_Reg'])\n",
    "\n",
    "plt.subplot(6, 3, 2)\n",
    "sns.distplot(data['Yearly_Income'])\n",
    "\n",
    "plt.subplot(6, 3, 3)\n",
    "sns.distplot(data['Unpaid_2_years'])\n",
    "\n",
    "plt.subplot(6, 3, 4)\n",
    "sns.distplot(data['Already_Defaulted'])\n",
    "\n",
    "plt.subplot(6, 3, 5)\n",
    "sns.distplot(data['Debt_to_Income'])\n",
    "\n",
    "plt.subplot(6, 3, 6)\n",
    "sns.distplot(data['Lend_Amount'])\n",
    "\n",
    "plt.subplot(6, 3, 7)\n",
    "sns.distplot(data['Deprecatory_Records'])\n",
    "\n",
    "plt.subplot(6, 3, 8)\n",
    "sns.distplot(data['Interest_Charged'])\n",
    "\n",
    "plt.subplot(6, 3, 9)\n",
    "sns.distplot(data['Usage_Rate'])\n",
    "\n",
    "plt.subplot(6, 3, 10)\n",
    "sns.distplot(data['Inquiries'])\n",
    "\n",
    "plt.subplot(6, 3, 11)\n",
    "sns.distplot(data['Present_Balance'])\n",
    "\n",
    "plt.subplot(6, 3, 12)\n",
    "sns.distplot(data['Gross_Collection'])\n",
    "\n",
    "plt.subplot(6, 3, 13)\n",
    "sns.distplot(data['Sub_GGGrade'])\n",
    "\n",
    "plt.subplot(6, 3, 14)\n",
    "sns.distplot(data['Account_Open'])\n",
    "\n",
    "plt.subplot(6, 3, 15)\n",
    "sns.distplot(data['Total_Unpaid_CL'])\n",
    "\n",
    "plt.subplot(6, 3, 16)\n",
    "sns.distplot(data['Unpaid_Amount'])\n",
    "\n",
    "plt.subplot(6, 3, 17)\n",
    "sns.distplot(data['Due_Fee'])\n",
    "\n",
    "plt.show()"
   ]
  },
  {
   "cell_type": "code",
   "execution_count": 24,
   "metadata": {},
   "outputs": [
    {
     "data": {
      "text/plain": [
       "II     35505\n",
       "III    35334\n",
       "I      20300\n",
       "IV     19725\n",
       "V      10252\n",
       "VI      3155\n",
       "VII      729\n",
       "Name: GGGrade, dtype: int64"
      ]
     },
     "execution_count": 24,
     "metadata": {},
     "output_type": "execute_result"
    }
   ],
   "source": [
    "data['GGGrade'].value_counts()"
   ]
  },
  {
   "cell_type": "code",
   "execution_count": 25,
   "metadata": {},
   "outputs": [],
   "source": [
    "data['GGGrade'] = data['GGGrade'].replace({\"I\":1,\"II\":2,\"III\":3,\"IV\":4,\"V\":5,\"VI\":6,\"VII\":7})"
   ]
  },
  {
   "cell_type": "code",
   "execution_count": 26,
   "metadata": {},
   "outputs": [
    {
     "data": {
      "text/plain": [
       "2    35505\n",
       "3    35334\n",
       "1    20300\n",
       "4    19725\n",
       "5    10252\n",
       "6     3155\n",
       "7      729\n",
       "Name: GGGrade, dtype: int64"
      ]
     },
     "execution_count": 26,
     "metadata": {},
     "output_type": "execute_result"
    }
   ],
   "source": [
    "data['GGGrade'].value_counts()"
   ]
  },
  {
   "cell_type": "code",
   "execution_count": 27,
   "metadata": {},
   "outputs": [
    {
     "data": {
      "text/plain": [
       "9yrs       5242\n",
       "6yrs       6112\n",
       "7yrs       6731\n",
       "8yrs       6748\n",
       "4yrs       7563\n",
       "5yrs       8035\n",
       "1yrs       8296\n",
       "<1yr      10311\n",
       "3yrs      10478\n",
       "2yrs      11476\n",
       ">10yrs    44008\n",
       "Name: Experience, dtype: int64"
      ]
     },
     "execution_count": 27,
     "metadata": {},
     "output_type": "execute_result"
    }
   ],
   "source": [
    "data['Experience'].value_counts(ascending=True)"
   ]
  },
  {
   "cell_type": "code",
   "execution_count": 28,
   "metadata": {},
   "outputs": [],
   "source": [
    "data['Experience'] = data['Experience'].replace({\"<1yr\":0,\"1yrs\":1,\"2yrs\":2,\"3yrs\":3,\"4yrs\":4,\"5yrs\":5,\"6yrs\":6,\"7yrs\":7,\"8yrs\":8,\"9yrs\":9,\">10yrs\":10})"
   ]
  },
  {
   "cell_type": "code",
   "execution_count": 29,
   "metadata": {},
   "outputs": [
    {
     "data": {
      "text/plain": [
       "9      5242\n",
       "6      6112\n",
       "7      6731\n",
       "8      6748\n",
       "4      7563\n",
       "5      8035\n",
       "1      8296\n",
       "0     10311\n",
       "3     10478\n",
       "2     11476\n",
       "10    44008\n",
       "Name: Experience, dtype: int64"
      ]
     },
     "execution_count": 29,
     "metadata": {},
     "output_type": "execute_result"
    }
   ],
   "source": [
    "data['Experience'].value_counts(ascending=True)"
   ]
  },
  {
   "cell_type": "code",
   "execution_count": 30,
   "metadata": {},
   "outputs": [
    {
     "data": {
      "text/plain": [
       "Not Vfied          37842\n",
       "Vfied              38008\n",
       "Source Verified    49150\n",
       "Name: Validation, dtype: int64"
      ]
     },
     "execution_count": 30,
     "metadata": {},
     "output_type": "execute_result"
    }
   ],
   "source": [
    "data['Validation'].value_counts(ascending=True)"
   ]
  },
  {
   "cell_type": "code",
   "execution_count": 31,
   "metadata": {},
   "outputs": [],
   "source": [
    "data['Validation'] = data['Validation'].replace({\"Not Vfied\":1,\"Vfied\":2,\"Source Verified\":3})"
   ]
  },
  {
   "cell_type": "code",
   "execution_count": 32,
   "metadata": {},
   "outputs": [
    {
     "data": {
      "text/plain": [
       "1    37842\n",
       "2    38008\n",
       "3    49150\n",
       "Name: Validation, dtype: int64"
      ]
     },
     "execution_count": 32,
     "metadata": {},
     "output_type": "execute_result"
    }
   ],
   "source": [
    "data['Validation'].value_counts(ascending=True)"
   ]
  },
  {
   "cell_type": "code",
   "execution_count": 33,
   "metadata": {},
   "outputs": [
    {
     "data": {
      "text/plain": [
       "NONE            6\n",
       "OTHER           8\n",
       "OWN         12008\n",
       "REN?        49906\n",
       "MOR??AGE    63072\n",
       "Name: Home_Status, dtype: int64"
      ]
     },
     "execution_count": 33,
     "metadata": {},
     "output_type": "execute_result"
    }
   ],
   "source": [
    "data['Home_Status'].value_counts(ascending=True)"
   ]
  },
  {
   "cell_type": "code",
   "execution_count": 34,
   "metadata": {},
   "outputs": [],
   "source": [
    "data['Home_Status'] = data['Home_Status'].replace({\"NONE\":1,\"OTHER\":2,\"OWN\":3,\"REN?\":2,\"MOR??AGE\":3})"
   ]
  },
  {
   "cell_type": "code",
   "execution_count": 35,
   "metadata": {},
   "outputs": [
    {
     "data": {
      "text/plain": [
       "1        6\n",
       "2    49914\n",
       "3    75080\n",
       "Name: Home_Status, dtype: int64"
      ]
     },
     "execution_count": 35,
     "metadata": {},
     "output_type": "execute_result"
    }
   ],
   "source": [
    "data['Home_Status'].value_counts(ascending=True)"
   ]
  },
  {
   "cell_type": "code",
   "execution_count": 36,
   "metadata": {},
   "outputs": [
    {
     "data": {
      "text/plain": [
       "Asst. store manager                   1\n",
       "Operation Mgnt                        1\n",
       "Automotive Equipment Technician       1\n",
       "Accoun Specialist                     1\n",
       "ALH Building Systems                  1\n",
       "                                   ... \n",
       "Owner                               891\n",
       "RN                                  926\n",
       "Nurse                              1081\n",
       "Super Lead                         1917\n",
       "School Teacher                     4251\n",
       "Name: Designation, Length: 54539, dtype: int64"
      ]
     },
     "execution_count": 36,
     "metadata": {},
     "output_type": "execute_result"
    }
   ],
   "source": [
    "data['Designation'].value_counts(ascending=True)"
   ]
  },
  {
   "cell_type": "code",
   "execution_count": 37,
   "metadata": {},
   "outputs": [
    {
     "data": {
      "text/plain": [
       "54539"
      ]
     },
     "execution_count": 37,
     "metadata": {},
     "output_type": "execute_result"
    }
   ],
   "source": [
    "data['Designation'].nunique()"
   ]
  },
  {
   "cell_type": "code",
   "execution_count": 38,
   "metadata": {},
   "outputs": [],
   "source": [
    "labelencoder = LabelEncoder()"
   ]
  },
  {
   "cell_type": "code",
   "execution_count": 39,
   "metadata": {},
   "outputs": [],
   "source": [
    "data['Designation'] = labelencoder.fit_transform(data['Designation'])"
   ]
  },
  {
   "cell_type": "code",
   "execution_count": 40,
   "metadata": {},
   "outputs": [
    {
     "data": {
      "text/plain": [
       "fully paid    58746\n",
       "whole         66254\n",
       "Name: File_Status, dtype: int64"
      ]
     },
     "execution_count": 40,
     "metadata": {},
     "output_type": "execute_result"
    }
   ],
   "source": [
    "data['File_Status'].value_counts(ascending=True)"
   ]
  },
  {
   "cell_type": "code",
   "execution_count": 41,
   "metadata": {},
   "outputs": [],
   "source": [
    "data['File_Status'] = data['File_Status'].replace({\"fully paid\":1,\"whole\":2})"
   ]
  },
  {
   "cell_type": "code",
   "execution_count": 42,
   "metadata": {},
   "outputs": [
    {
     "data": {
      "text/plain": [
       "1    58746\n",
       "2    66254\n",
       "Name: File_Status, dtype: int64"
      ]
     },
     "execution_count": 42,
     "metadata": {},
     "output_type": "execute_result"
    }
   ],
   "source": [
    "data['File_Status'].value_counts(ascending=True)"
   ]
  },
  {
   "cell_type": "code",
   "execution_count": 43,
   "metadata": {},
   "outputs": [
    {
     "data": {
      "text/plain": [
       "ND               70\n",
       "ME               79\n",
       "NE              209\n",
       "SD              255\n",
       "VT              258\n",
       "WY              280\n",
       "AK              323\n",
       "DC              339\n",
       "DE              348\n",
       "MT              374\n",
       "RI              549\n",
       "WV              574\n",
       "MS              580\n",
       "NH              629\n",
       "HI              659\n",
       "NM              688\n",
       "AR              918\n",
       "UT              921\n",
       "OK             1104\n",
       "KS             1160\n",
       "KY             1201\n",
       "SC             1424\n",
       "LA             1481\n",
       "OR             1500\n",
       "WI             1593\n",
       "AL             1647\n",
       "NV             1692\n",
       "CT             1928\n",
       "TN             1962\n",
       "MO             2030\n",
       "IN             2082\n",
       "MN             2342\n",
       "WA             2648\n",
       "CO             2651\n",
       "MA             2868\n",
       "AZ             2922\n",
       "Maryland       2941\n",
       "MI             3213\n",
       "NC             3587\n",
       "VA             3626\n",
       "GA             4092\n",
       "Ohio           4229\n",
       "PA             4504\n",
       "NewJersey      4642\n",
       "IL             5009\n",
       "Florida        8307\n",
       "TX            10141\n",
       "Newyork       10282\n",
       "California    18139\n",
       "Name: State, dtype: int64"
      ]
     },
     "execution_count": 43,
     "metadata": {},
     "output_type": "execute_result"
    }
   ],
   "source": [
    "data['State'].value_counts(ascending=True)"
   ]
  },
  {
   "cell_type": "code",
   "execution_count": 44,
   "metadata": {},
   "outputs": [
    {
     "data": {
      "text/plain": [
       "49"
      ]
     },
     "execution_count": 44,
     "metadata": {},
     "output_type": "execute_result"
    }
   ],
   "source": [
    "data['State'].nunique()"
   ]
  },
  {
   "cell_type": "code",
   "execution_count": 45,
   "metadata": {},
   "outputs": [],
   "source": [
    "data['State'] = labelencoder.fit_transform(data['State'])"
   ]
  },
  {
   "cell_type": "code",
   "execution_count": 46,
   "metadata": {},
   "outputs": [
    {
     "data": {
      "text/plain": [
       "26       70\n",
       "18       79\n",
       "27      209\n",
       "39      255\n",
       "44      258\n",
       "48      280\n",
       "0       323\n",
       "7       339\n",
       "8       348\n",
       "23      374\n",
       "37      549\n",
       "47      574\n",
       "22      580\n",
       "28      629\n",
       "11      659\n",
       "29      688\n",
       "2       918\n",
       "42      921\n",
       "33     1104\n",
       "14     1160\n",
       "15     1201\n",
       "38     1424\n",
       "16     1481\n",
       "34     1500\n",
       "46     1593\n",
       "1      1647\n",
       "30     1692\n",
       "5      1928\n",
       "40     1962\n",
       "21     2030\n",
       "13     2082\n",
       "20     2342\n",
       "45     2648\n",
       "4      2651\n",
       "17     2868\n",
       "3      2922\n",
       "24     2941\n",
       "19     3213\n",
       "25     3587\n",
       "43     3626\n",
       "10     4092\n",
       "35     4229\n",
       "36     4504\n",
       "31     4642\n",
       "12     5009\n",
       "9      8307\n",
       "41    10141\n",
       "32    10282\n",
       "6     18139\n",
       "Name: State, dtype: int64"
      ]
     },
     "execution_count": 46,
     "metadata": {},
     "output_type": "execute_result"
    }
   ],
   "source": [
    "data['State'].value_counts(ascending=True)"
   ]
  },
  {
   "cell_type": "code",
   "execution_count": 47,
   "metadata": {},
   "outputs": [
    {
     "data": {
      "text/plain": [
       "5 years    39130\n",
       "3 years    85870\n",
       "Name: Duration, dtype: int64"
      ]
     },
     "execution_count": 47,
     "metadata": {},
     "output_type": "execute_result"
    }
   ],
   "source": [
    "data['Duration'].value_counts(ascending=True)"
   ]
  },
  {
   "cell_type": "code",
   "execution_count": 48,
   "metadata": {},
   "outputs": [],
   "source": [
    "data['Duration'] = data['Duration'].replace({\"5 years\":1,\"3 years\":2})"
   ]
  },
  {
   "cell_type": "code",
   "execution_count": 49,
   "metadata": {},
   "outputs": [
    {
     "data": {
      "text/plain": [
       "renewable  energy         58\n",
       "wedding                  151\n",
       "house                    447\n",
       "vacation                 593\n",
       "moving                   722\n",
       "car                     1011\n",
       "small  business         1055\n",
       "medical                 1155\n",
       "major  purchase         2119\n",
       "other                   5468\n",
       "home  improvement       7043\n",
       "credit  card           30156\n",
       "debt  consolidation    75022\n",
       "Name: Reason, dtype: int64"
      ]
     },
     "execution_count": 49,
     "metadata": {},
     "output_type": "execute_result"
    }
   ],
   "source": [
    "data['Reason'].value_counts(ascending=True)"
   ]
  },
  {
   "cell_type": "code",
   "execution_count": 50,
   "metadata": {},
   "outputs": [
    {
     "data": {
      "text/plain": [
       "13"
      ]
     },
     "execution_count": 50,
     "metadata": {},
     "output_type": "execute_result"
    }
   ],
   "source": [
    "data['Reason'].nunique()"
   ]
  },
  {
   "cell_type": "code",
   "execution_count": 51,
   "metadata": {},
   "outputs": [],
   "source": [
    "data['Reason'] = labelencoder.fit_transform(data['Reason'])"
   ]
  },
  {
   "cell_type": "code",
   "execution_count": 52,
   "metadata": {},
   "outputs": [
    {
     "data": {
      "text/plain": [
       "9        58\n",
       "12      151\n",
       "4       447\n",
       "11      593\n",
       "7       722\n",
       "0      1011\n",
       "10     1055\n",
       "6      1155\n",
       "5      2119\n",
       "8      5468\n",
       "3      7043\n",
       "1     30156\n",
       "2     75022\n",
       "Name: Reason, dtype: int64"
      ]
     },
     "execution_count": 52,
     "metadata": {},
     "output_type": "execute_result"
    }
   ],
   "source": [
    "data['Reason'].value_counts(ascending=True)"
   ]
  },
  {
   "cell_type": "code",
   "execution_count": 53,
   "metadata": {},
   "outputs": [
    {
     "data": {
      "text/plain": [
       "J        66\n",
       "I    124934\n",
       "Name: Claim_Type, dtype: int64"
      ]
     },
     "execution_count": 53,
     "metadata": {},
     "output_type": "execute_result"
    }
   ],
   "source": [
    "data['Claim_Type'].value_counts(ascending=True)"
   ]
  },
  {
   "cell_type": "code",
   "execution_count": 54,
   "metadata": {},
   "outputs": [],
   "source": [
    "data['Claim_Type'] = data['Claim_Type'].replace({\"J\":1,\"I\":2})"
   ]
  },
  {
   "cell_type": "code",
   "execution_count": 55,
   "metadata": {},
   "outputs": [
    {
     "data": {
      "text/plain": [
       "1        66\n",
       "2    124934\n",
       "Name: Claim_Type, dtype: int64"
      ]
     },
     "execution_count": 55,
     "metadata": {},
     "output_type": "execute_result"
    }
   ],
   "source": [
    "data['Claim_Type'].value_counts(ascending=True)"
   ]
  },
  {
   "cell_type": "code",
   "execution_count": 56,
   "metadata": {},
   "outputs": [
    {
     "name": "stdout",
     "output_type": "stream",
     "text": [
      "<class 'pandas.core.frame.DataFrame'>\n",
      "Int64Index: 125000 entries, 0 to 37499\n",
      "Data columns (total 29 columns):\n",
      " #   Column               Non-Null Count   Dtype  \n",
      "---  ------               --------------   -----  \n",
      " 0   ID                   125000 non-null  int64  \n",
      " 1   Asst_Reg             125000 non-null  float64\n",
      " 2   GGGrade              125000 non-null  int64  \n",
      " 3   Experience           125000 non-null  int64  \n",
      " 4   Validation           125000 non-null  int64  \n",
      " 5   Yearly_Income        125000 non-null  float64\n",
      " 6   Home_Status          125000 non-null  int64  \n",
      " 7   Unpaid_2_years       125000 non-null  float64\n",
      " 8   Already_Defaulted    125000 non-null  float64\n",
      " 9   Designation          125000 non-null  int32  \n",
      " 10  Debt_to_Income       125000 non-null  float64\n",
      " 11  Postal_Code          125000 non-null  float64\n",
      " 12  Lend_Amount          125000 non-null  float64\n",
      " 13  Deprecatory_Records  125000 non-null  float64\n",
      " 14  Interest_Charged     125000 non-null  float64\n",
      " 15  Usage_Rate           125000 non-null  float64\n",
      " 16  Inquiries            125000 non-null  float64\n",
      " 17  Present_Balance      125000 non-null  float64\n",
      " 18  Gross_Collection     125000 non-null  float64\n",
      " 19  Sub_GGGrade          125000 non-null  float64\n",
      " 20  File_Status          125000 non-null  int64  \n",
      " 21  State                125000 non-null  int32  \n",
      " 22  Account_Open         125000 non-null  float64\n",
      " 23  Total_Unpaid_CL      125000 non-null  float64\n",
      " 24  Duration             125000 non-null  int64  \n",
      " 25  Unpaid_Amount        125000 non-null  float64\n",
      " 26  Reason               125000 non-null  int32  \n",
      " 27  Claim_Type           125000 non-null  int64  \n",
      " 28  Due_Fee              125000 non-null  float64\n",
      "dtypes: float64(18), int32(3), int64(8)\n",
      "memory usage: 27.2 MB\n"
     ]
    }
   ],
   "source": [
    "data.info()"
   ]
  },
  {
   "cell_type": "code",
   "execution_count": 57,
   "metadata": {},
   "outputs": [
    {
     "data": {
      "text/plain": [
       "Index(['Asst_Reg', 'GGGrade', 'Experience', 'Validation', 'Yearly_Income',\n",
       "       'Home_Status', 'Unpaid_2_years', 'Already_Defaulted', 'Designation',\n",
       "       'Debt_to_Income', 'Lend_Amount', 'Deprecatory_Records',\n",
       "       'Interest_Charged', 'Usage_Rate', 'Inquiries', 'Present_Balance',\n",
       "       'Gross_Collection', 'Sub_GGGrade', 'File_Status', 'State',\n",
       "       'Account_Open', 'Total_Unpaid_CL', 'Duration', 'Unpaid_Amount',\n",
       "       'Reason', 'Claim_Type', 'Due_Fee'],\n",
       "      dtype='object')"
      ]
     },
     "execution_count": 57,
     "metadata": {},
     "output_type": "execute_result"
    }
   ],
   "source": [
    "# removing unnecassary columns\n",
    "\n",
    "data = data.drop(['ID', 'Postal_Code'], axis = 1)\n",
    "\n",
    "# checking the new columns of data\n",
    "data.columns"
   ]
  },
  {
   "cell_type": "code",
   "execution_count": 58,
   "metadata": {},
   "outputs": [
    {
     "data": {
      "text/html": [
       "<div>\n",
       "<style scoped>\n",
       "    .dataframe tbody tr th:only-of-type {\n",
       "        vertical-align: middle;\n",
       "    }\n",
       "\n",
       "    .dataframe tbody tr th {\n",
       "        vertical-align: top;\n",
       "    }\n",
       "\n",
       "    .dataframe thead th {\n",
       "        text-align: right;\n",
       "    }\n",
       "</style>\n",
       "<table border=\"1\" class=\"dataframe\">\n",
       "  <thead>\n",
       "    <tr style=\"text-align: right;\">\n",
       "      <th></th>\n",
       "      <th>Asst_Reg</th>\n",
       "      <th>GGGrade</th>\n",
       "      <th>Experience</th>\n",
       "      <th>Validation</th>\n",
       "      <th>Yearly_Income</th>\n",
       "      <th>Home_Status</th>\n",
       "      <th>Unpaid_2_years</th>\n",
       "      <th>Already_Defaulted</th>\n",
       "      <th>Designation</th>\n",
       "      <th>Debt_to_Income</th>\n",
       "      <th>...</th>\n",
       "      <th>Sub_GGGrade</th>\n",
       "      <th>File_Status</th>\n",
       "      <th>State</th>\n",
       "      <th>Account_Open</th>\n",
       "      <th>Total_Unpaid_CL</th>\n",
       "      <th>Duration</th>\n",
       "      <th>Unpaid_Amount</th>\n",
       "      <th>Reason</th>\n",
       "      <th>Claim_Type</th>\n",
       "      <th>Due_Fee</th>\n",
       "    </tr>\n",
       "  </thead>\n",
       "  <tbody>\n",
       "    <tr>\n",
       "      <th>56438</th>\n",
       "      <td>15.283503</td>\n",
       "      <td>1</td>\n",
       "      <td>2</td>\n",
       "      <td>3</td>\n",
       "      <td>11.647465</td>\n",
       "      <td>3</td>\n",
       "      <td>0.000000</td>\n",
       "      <td>0.0</td>\n",
       "      <td>7647</td>\n",
       "      <td>3.141666</td>\n",
       "      <td>...</td>\n",
       "      <td>2.564949</td>\n",
       "      <td>2</td>\n",
       "      <td>9</td>\n",
       "      <td>2.944439</td>\n",
       "      <td>11.893052</td>\n",
       "      <td>2</td>\n",
       "      <td>10.604078</td>\n",
       "      <td>2</td>\n",
       "      <td>2</td>\n",
       "      <td>0.000000</td>\n",
       "    </tr>\n",
       "    <tr>\n",
       "      <th>16585</th>\n",
       "      <td>15.026837</td>\n",
       "      <td>2</td>\n",
       "      <td>10</td>\n",
       "      <td>2</td>\n",
       "      <td>11.692585</td>\n",
       "      <td>3</td>\n",
       "      <td>0.693147</td>\n",
       "      <td>0.0</td>\n",
       "      <td>37681</td>\n",
       "      <td>3.438467</td>\n",
       "      <td>...</td>\n",
       "      <td>3.044522</td>\n",
       "      <td>2</td>\n",
       "      <td>39</td>\n",
       "      <td>2.708050</td>\n",
       "      <td>11.316558</td>\n",
       "      <td>1</td>\n",
       "      <td>10.731403</td>\n",
       "      <td>2</td>\n",
       "      <td>2</td>\n",
       "      <td>0.000000</td>\n",
       "    </tr>\n",
       "    <tr>\n",
       "      <th>39001</th>\n",
       "      <td>15.694979</td>\n",
       "      <td>2</td>\n",
       "      <td>10</td>\n",
       "      <td>3</td>\n",
       "      <td>11.903893</td>\n",
       "      <td>3</td>\n",
       "      <td>0.693147</td>\n",
       "      <td>0.0</td>\n",
       "      <td>15236</td>\n",
       "      <td>3.057655</td>\n",
       "      <td>...</td>\n",
       "      <td>2.833213</td>\n",
       "      <td>1</td>\n",
       "      <td>6</td>\n",
       "      <td>2.564949</td>\n",
       "      <td>10.955550</td>\n",
       "      <td>2</td>\n",
       "      <td>10.329361</td>\n",
       "      <td>2</td>\n",
       "      <td>2</td>\n",
       "      <td>0.000000</td>\n",
       "    </tr>\n",
       "    <tr>\n",
       "      <th>6047</th>\n",
       "      <td>13.745066</td>\n",
       "      <td>5</td>\n",
       "      <td>0</td>\n",
       "      <td>3</td>\n",
       "      <td>11.547221</td>\n",
       "      <td>3</td>\n",
       "      <td>0.000000</td>\n",
       "      <td>0.0</td>\n",
       "      <td>9007</td>\n",
       "      <td>3.081066</td>\n",
       "      <td>...</td>\n",
       "      <td>3.555348</td>\n",
       "      <td>1</td>\n",
       "      <td>25</td>\n",
       "      <td>2.079442</td>\n",
       "      <td>10.563052</td>\n",
       "      <td>1</td>\n",
       "      <td>10.591611</td>\n",
       "      <td>2</td>\n",
       "      <td>2</td>\n",
       "      <td>3.629395</td>\n",
       "    </tr>\n",
       "    <tr>\n",
       "      <th>42652</th>\n",
       "      <td>15.721350</td>\n",
       "      <td>2</td>\n",
       "      <td>5</td>\n",
       "      <td>1</td>\n",
       "      <td>12.078245</td>\n",
       "      <td>3</td>\n",
       "      <td>0.000000</td>\n",
       "      <td>0.0</td>\n",
       "      <td>48284</td>\n",
       "      <td>2.905282</td>\n",
       "      <td>...</td>\n",
       "      <td>2.833213</td>\n",
       "      <td>2</td>\n",
       "      <td>30</td>\n",
       "      <td>2.484907</td>\n",
       "      <td>9.994835</td>\n",
       "      <td>2</td>\n",
       "      <td>9.341806</td>\n",
       "      <td>2</td>\n",
       "      <td>2</td>\n",
       "      <td>0.000000</td>\n",
       "    </tr>\n",
       "  </tbody>\n",
       "</table>\n",
       "<p>5 rows × 27 columns</p>\n",
       "</div>"
      ],
      "text/plain": [
       "        Asst_Reg  GGGrade  Experience  Validation  Yearly_Income  Home_Status  \\\n",
       "56438  15.283503        1           2           3      11.647465            3   \n",
       "16585  15.026837        2          10           2      11.692585            3   \n",
       "39001  15.694979        2          10           3      11.903893            3   \n",
       "6047   13.745066        5           0           3      11.547221            3   \n",
       "42652  15.721350        2           5           1      12.078245            3   \n",
       "\n",
       "       Unpaid_2_years  Already_Defaulted  Designation  Debt_to_Income  ...  \\\n",
       "56438        0.000000                0.0         7647        3.141666  ...   \n",
       "16585        0.693147                0.0        37681        3.438467  ...   \n",
       "39001        0.693147                0.0        15236        3.057655  ...   \n",
       "6047         0.000000                0.0         9007        3.081066  ...   \n",
       "42652        0.000000                0.0        48284        2.905282  ...   \n",
       "\n",
       "       Sub_GGGrade  File_Status  State  Account_Open  Total_Unpaid_CL  \\\n",
       "56438     2.564949            2      9      2.944439        11.893052   \n",
       "16585     3.044522            2     39      2.708050        11.316558   \n",
       "39001     2.833213            1      6      2.564949        10.955550   \n",
       "6047      3.555348            1     25      2.079442        10.563052   \n",
       "42652     2.833213            2     30      2.484907         9.994835   \n",
       "\n",
       "       Duration  Unpaid_Amount  Reason  Claim_Type   Due_Fee  \n",
       "56438         2      10.604078       2           2  0.000000  \n",
       "16585         1      10.731403       2           2  0.000000  \n",
       "39001         2      10.329361       2           2  0.000000  \n",
       "6047          1      10.591611       2           2  3.629395  \n",
       "42652         2       9.341806       2           2  0.000000  \n",
       "\n",
       "[5 rows x 27 columns]"
      ]
     },
     "execution_count": 58,
     "metadata": {},
     "output_type": "execute_result"
    }
   ],
   "source": [
    "# looking at the sample of the pre-processed data\n",
    "\n",
    "data.sample(5)"
   ]
  },
  {
   "cell_type": "code",
   "execution_count": 59,
   "metadata": {},
   "outputs": [
    {
     "data": {
      "text/plain": [
       "0    70988\n",
       "1    16512\n",
       "Name: Loan/No_Loan, dtype: int64"
      ]
     },
     "execution_count": 59,
     "metadata": {},
     "output_type": "execute_result"
    }
   ],
   "source": [
    "# checking the target variable\n",
    "\n",
    "y_train_t.value_counts()"
   ]
  },
  {
   "cell_type": "code",
   "execution_count": 60,
   "metadata": {},
   "outputs": [
    {
     "name": "stdout",
     "output_type": "stream",
     "text": [
      "Shape of train : (87500, 27)\n",
      "Shape of test : (37500, 27)\n"
     ]
    }
   ],
   "source": [
    "# separating train and test datasets from data\n",
    "\n",
    "train_new = data.iloc[:87500,:]\n",
    "test_new = data.iloc[87500:,:]\n",
    "\n",
    "# checking the shape of train and test\n",
    "print(\"Shape of train :\", train_new.shape)\n",
    "print(\"Shape of test :\", test_new.shape)"
   ]
  },
  {
   "cell_type": "code",
   "execution_count": 61,
   "metadata": {},
   "outputs": [
    {
     "name": "stdout",
     "output_type": "stream",
     "text": [
      "Shape of x: (141976, 27)\n",
      "Shape of y: (141976,)\n"
     ]
    }
   ],
   "source": [
    "# applying SMOTE\n",
    "\n",
    "x_resample, y_resample = SMOTE().fit_resample(train_new, y_train_t.values.ravel()) \n",
    "\n",
    "# checking the shape of x_resample and y_resample\n",
    "print(\"Shape of x:\", x_resample.shape)\n",
    "print(\"Shape of y:\", y_resample.shape)"
   ]
  },
  {
   "cell_type": "code",
   "execution_count": 62,
   "metadata": {},
   "outputs": [
    {
     "name": "stdout",
     "output_type": "stream",
     "text": [
      "(99383, 27)\n",
      "(99383,)\n",
      "(42593, 27)\n",
      "(42593,)\n"
     ]
    }
   ],
   "source": [
    "# train and valid sets from train\n",
    "\n",
    "x_train, x_valid, y_train, y_valid = train_test_split(x_resample, y_resample, test_size = 0.3, random_state = 0)\n",
    "\n",
    "# checking the shapes\n",
    "print(x_train.shape)\n",
    "print(y_train.shape)\n",
    "print(x_valid.shape)\n",
    "print(y_valid.shape)"
   ]
  },
  {
   "cell_type": "code",
   "execution_count": 63,
   "metadata": {},
   "outputs": [],
   "source": [
    "# applying standardization\n",
    "\n",
    "sc = StandardScaler()\n",
    "x_train = sc.fit_transform(x_train)\n",
    "x_valid = sc.transform(x_valid)\n",
    "x_test = sc.transform(test_new)"
   ]
  },
  {
   "cell_type": "code",
   "execution_count": 64,
   "metadata": {},
   "outputs": [
    {
     "name": "stdout",
     "output_type": "stream",
     "text": [
      "Training Accuracy:  0.9999798758338951\n",
      "Testing Accuarcy:  0.8800741905946987\n",
      "              precision    recall  f1-score   support\n",
      "\n",
      "           0       0.86      0.91      0.88     21138\n",
      "           1       0.90      0.85      0.88     21455\n",
      "\n",
      "    accuracy                           0.88     42593\n",
      "   macro avg       0.88      0.88      0.88     42593\n",
      "weighted avg       0.88      0.88      0.88     42593\n",
      "\n"
     ]
    },
    {
     "data": {
      "text/plain": [
       "<AxesSubplot:>"
      ]
     },
     "execution_count": 64,
     "metadata": {},
     "output_type": "execute_result"
    },
    {
     "data": {
      "image/png": "[encoded data removed]",
      "text/plain": [
       "<Figure size 432x288 with 2 Axes>"
      ]
     },
     "metadata": {
      "needs_background": "light"
     },
     "output_type": "display_data"
    }
   ],
   "source": [
    "# RANDOM FOREST CLASSIFIER\n",
    "\n",
    "model_rf = RandomForestClassifier(random_state=123)\n",
    "model_rf.fit(x_train, y_train)\n",
    "\n",
    "y_pred = model_rf.predict(x_valid)\n",
    "\n",
    "print(\"Training Accuracy: \", model_rf.score(x_train, y_train))\n",
    "print('Testing Accuarcy: ', model_rf.score(x_valid, y_valid))\n",
    "\n",
    "# making a classification report\n",
    "cr = classification_report(y_valid,  y_pred)\n",
    "print(cr)\n",
    "\n",
    "# making a confusion matrix\n",
    "cm = confusion_matrix(y_valid, y_pred)\n",
    "sns.heatmap(cm, annot = True)"
   ]
  },
  {
   "cell_type": "code",
   "execution_count": 69,
   "metadata": {},
   "outputs": [],
   "source": [
    "# RANDOM FOREST CLASSIFIER using Grid Search\n",
    "\n",
    "grid_array_rfc = {'max_depth': [1,2,3,4,5],\n",
    "             'max_features': [1,2,3,4,5],\n",
    "             'min_samples_leaf': [10,15,20],\n",
    "             'min_samples_split': [90,100,110],\n",
    "             'n_estimators': [50,100,150]}"
   ]
  },
  {
   "cell_type": "code",
   "execution_count": 70,
   "metadata": {},
   "outputs": [],
   "source": [
    "grid_search_rfc = GridSearchCV(estimator=model_rf,param_grid=grid_array_rfc,scoring='f1',cv = 5,n_jobs=-1)"
   ]
  },
  {
   "cell_type": "code",
   "execution_count": 71,
   "metadata": {},
   "outputs": [
    {
     "ename": "KeyboardInterrupt",
     "evalue": "",
     "output_type": "error",
     "traceback": [
      "\u001b[1;31m---------------------------------------------------------------------------\u001b[0m",
      "\u001b[1;31mKeyboardInterrupt\u001b[0m                         Traceback (most recent call last)",
      "\u001b[1;32m<ipython-input-71-4e3c8a8f5dcb>\u001b[0m in \u001b[0;36m<module>\u001b[1;34m\u001b[0m\n\u001b[1;32m----> 1\u001b[1;33m \u001b[0mgrid_search_rfc\u001b[0m\u001b[1;33m.\u001b[0m\u001b[0mfit\u001b[0m\u001b[1;33m(\u001b[0m\u001b[0mx_train\u001b[0m\u001b[1;33m,\u001b[0m\u001b[0my_train\u001b[0m\u001b[1;33m)\u001b[0m\u001b[1;33m\u001b[0m\u001b[1;33m\u001b[0m\u001b[0m\n\u001b[0m",
      "\u001b[1;32m~\\AppData\\Roaming\\Python\\Python38\\site-packages\\sklearn\\model_selection\\_search.py\u001b[0m in \u001b[0;36mfit\u001b[1;34m(self, X, y, groups, **fit_params)\u001b[0m\n\u001b[0;32m    889\u001b[0m                 \u001b[1;32mreturn\u001b[0m \u001b[0mresults\u001b[0m\u001b[1;33m\u001b[0m\u001b[1;33m\u001b[0m\u001b[0m\n\u001b[0;32m    890\u001b[0m \u001b[1;33m\u001b[0m\u001b[0m\n\u001b[1;32m--> 891\u001b[1;33m             \u001b[0mself\u001b[0m\u001b[1;33m.\u001b[0m\u001b[0m_run_search\u001b[0m\u001b[1;33m(\u001b[0m\u001b[0mevaluate_candidates\u001b[0m\u001b[1;33m)\u001b[0m\u001b[1;33m\u001b[0m\u001b[1;33m\u001b[0m\u001b[0m\n\u001b[0m\u001b[0;32m    892\u001b[0m \u001b[1;33m\u001b[0m\u001b[0m\n\u001b[0;32m    893\u001b[0m             \u001b[1;31m# multimetric is determined here because in the case of a callable\u001b[0m\u001b[1;33m\u001b[0m\u001b[1;33m\u001b[0m\u001b[1;33m\u001b[0m\u001b[0m\n",
      "\u001b[1;32m~\\AppData\\Roaming\\Python\\Python38\\site-packages\\sklearn\\model_selection\\_search.py\u001b[0m in \u001b[0;36m_run_search\u001b[1;34m(self, evaluate_candidates)\u001b[0m\n\u001b[0;32m   1390\u001b[0m     \u001b[1;32mdef\u001b[0m \u001b[0m_run_search\u001b[0m\u001b[1;33m(\u001b[0m\u001b[0mself\u001b[0m\u001b[1;33m,\u001b[0m \u001b[0mevaluate_candidates\u001b[0m\u001b[1;33m)\u001b[0m\u001b[1;33m:\u001b[0m\u001b[1;33m\u001b[0m\u001b[1;33m\u001b[0m\u001b[0m\n\u001b[0;32m   1391\u001b[0m         \u001b[1;34m\"\"\"Search all candidates in param_grid\"\"\"\u001b[0m\u001b[1;33m\u001b[0m\u001b[1;33m\u001b[0m\u001b[0m\n\u001b[1;32m-> 1392\u001b[1;33m         \u001b[0mevaluate_candidates\u001b[0m\u001b[1;33m(\u001b[0m\u001b[0mParameterGrid\u001b[0m\u001b[1;33m(\u001b[0m\u001b[0mself\u001b[0m\u001b[1;33m.\u001b[0m\u001b[0mparam_grid\u001b[0m\u001b[1;33m)\u001b[0m\u001b[1;33m)\u001b[0m\u001b[1;33m\u001b[0m\u001b[1;33m\u001b[0m\u001b[0m\n\u001b[0m\u001b[0;32m   1393\u001b[0m \u001b[1;33m\u001b[0m\u001b[0m\n\u001b[0;32m   1394\u001b[0m \u001b[1;33m\u001b[0m\u001b[0m\n",
      "\u001b[1;32m~\\AppData\\Roaming\\Python\\Python38\\site-packages\\sklearn\\model_selection\\_search.py\u001b[0m in \u001b[0;36mevaluate_candidates\u001b[1;34m(candidate_params, cv, more_results)\u001b[0m\n\u001b[0;32m    836\u001b[0m                     )\n\u001b[0;32m    837\u001b[0m \u001b[1;33m\u001b[0m\u001b[0m\n\u001b[1;32m--> 838\u001b[1;33m                 out = parallel(\n\u001b[0m\u001b[0;32m    839\u001b[0m                     delayed(_fit_and_score)(\n\u001b[0;32m    840\u001b[0m                         \u001b[0mclone\u001b[0m\u001b[1;33m(\u001b[0m\u001b[0mbase_estimator\u001b[0m\u001b[1;33m)\u001b[0m\u001b[1;33m,\u001b[0m\u001b[1;33m\u001b[0m\u001b[1;33m\u001b[0m\u001b[0m\n",
      "\u001b[1;32mC:\\ProgramData\\Anaconda3\\lib\\site-packages\\joblib\\parallel.py\u001b[0m in \u001b[0;36m__call__\u001b[1;34m(self, iterable)\u001b[0m\n\u001b[0;32m   1059\u001b[0m \u001b[1;33m\u001b[0m\u001b[0m\n\u001b[0;32m   1060\u001b[0m             \u001b[1;32mwith\u001b[0m \u001b[0mself\u001b[0m\u001b[1;33m.\u001b[0m\u001b[0m_backend\u001b[0m\u001b[1;33m.\u001b[0m\u001b[0mretrieval_context\u001b[0m\u001b[1;33m(\u001b[0m\u001b[1;33m)\u001b[0m\u001b[1;33m:\u001b[0m\u001b[1;33m\u001b[0m\u001b[1;33m\u001b[0m\u001b[0m\n\u001b[1;32m-> 1061\u001b[1;33m                 \u001b[0mself\u001b[0m\u001b[1;33m.\u001b[0m\u001b[0mretrieve\u001b[0m\u001b[1;33m(\u001b[0m\u001b[1;33m)\u001b[0m\u001b[1;33m\u001b[0m\u001b[1;33m\u001b[0m\u001b[0m\n\u001b[0m\u001b[0;32m   1062\u001b[0m             \u001b[1;31m# Make sure that we get a last message telling us we are done\u001b[0m\u001b[1;33m\u001b[0m\u001b[1;33m\u001b[0m\u001b[1;33m\u001b[0m\u001b[0m\n\u001b[0;32m   1063\u001b[0m             \u001b[0melapsed_time\u001b[0m \u001b[1;33m=\u001b[0m \u001b[0mtime\u001b[0m\u001b[1;33m.\u001b[0m\u001b[0mtime\u001b[0m\u001b[1;33m(\u001b[0m\u001b[1;33m)\u001b[0m \u001b[1;33m-\u001b[0m \u001b[0mself\u001b[0m\u001b[1;33m.\u001b[0m\u001b[0m_start_time\u001b[0m\u001b[1;33m\u001b[0m\u001b[1;33m\u001b[0m\u001b[0m\n",
      "\u001b[1;32mC:\\ProgramData\\Anaconda3\\lib\\site-packages\\joblib\\parallel.py\u001b[0m in \u001b[0;36mretrieve\u001b[1;34m(self)\u001b[0m\n\u001b[0;32m    938\u001b[0m             \u001b[1;32mtry\u001b[0m\u001b[1;33m:\u001b[0m\u001b[1;33m\u001b[0m\u001b[1;33m\u001b[0m\u001b[0m\n\u001b[0;32m    939\u001b[0m                 \u001b[1;32mif\u001b[0m \u001b[0mgetattr\u001b[0m\u001b[1;33m(\u001b[0m\u001b[0mself\u001b[0m\u001b[1;33m.\u001b[0m\u001b[0m_backend\u001b[0m\u001b[1;33m,\u001b[0m \u001b[1;34m'supports_timeout'\u001b[0m\u001b[1;33m,\u001b[0m \u001b[1;32mFalse\u001b[0m\u001b[1;33m)\u001b[0m\u001b[1;33m:\u001b[0m\u001b[1;33m\u001b[0m\u001b[1;33m\u001b[0m\u001b[0m\n\u001b[1;32m--> 940\u001b[1;33m                     \u001b[0mself\u001b[0m\u001b[1;33m.\u001b[0m\u001b[0m_output\u001b[0m\u001b[1;33m.\u001b[0m\u001b[0mextend\u001b[0m\u001b[1;33m(\u001b[0m\u001b[0mjob\u001b[0m\u001b[1;33m.\u001b[0m\u001b[0mget\u001b[0m\u001b[1;33m(\u001b[0m\u001b[0mtimeout\u001b[0m\u001b[1;33m=\u001b[0m\u001b[0mself\u001b[0m\u001b[1;33m.\u001b[0m\u001b[0mtimeout\u001b[0m\u001b[1;33m)\u001b[0m\u001b[1;33m)\u001b[0m\u001b[1;33m\u001b[0m\u001b[1;33m\u001b[0m\u001b[0m\n\u001b[0m\u001b[0;32m    941\u001b[0m                 \u001b[1;32melse\u001b[0m\u001b[1;33m:\u001b[0m\u001b[1;33m\u001b[0m\u001b[1;33m\u001b[0m\u001b[0m\n\u001b[0;32m    942\u001b[0m                     \u001b[0mself\u001b[0m\u001b[1;33m.\u001b[0m\u001b[0m_output\u001b[0m\u001b[1;33m.\u001b[0m\u001b[0mextend\u001b[0m\u001b[1;33m(\u001b[0m\u001b[0mjob\u001b[0m\u001b[1;33m.\u001b[0m\u001b[0mget\u001b[0m\u001b[1;33m(\u001b[0m\u001b[1;33m)\u001b[0m\u001b[1;33m)\u001b[0m\u001b[1;33m\u001b[0m\u001b[1;33m\u001b[0m\u001b[0m\n",
      "\u001b[1;32mC:\\ProgramData\\Anaconda3\\lib\\site-packages\\joblib\\_parallel_backends.py\u001b[0m in \u001b[0;36mwrap_future_result\u001b[1;34m(future, timeout)\u001b[0m\n\u001b[0;32m    540\u001b[0m         AsyncResults.get from multiprocessing.\"\"\"\n\u001b[0;32m    541\u001b[0m         \u001b[1;32mtry\u001b[0m\u001b[1;33m:\u001b[0m\u001b[1;33m\u001b[0m\u001b[1;33m\u001b[0m\u001b[0m\n\u001b[1;32m--> 542\u001b[1;33m             \u001b[1;32mreturn\u001b[0m \u001b[0mfuture\u001b[0m\u001b[1;33m.\u001b[0m\u001b[0mresult\u001b[0m\u001b[1;33m(\u001b[0m\u001b[0mtimeout\u001b[0m\u001b[1;33m=\u001b[0m\u001b[0mtimeout\u001b[0m\u001b[1;33m)\u001b[0m\u001b[1;33m\u001b[0m\u001b[1;33m\u001b[0m\u001b[0m\n\u001b[0m\u001b[0;32m    543\u001b[0m         \u001b[1;32mexcept\u001b[0m \u001b[0mCfTimeoutError\u001b[0m \u001b[1;32mas\u001b[0m \u001b[0me\u001b[0m\u001b[1;33m:\u001b[0m\u001b[1;33m\u001b[0m\u001b[1;33m\u001b[0m\u001b[0m\n\u001b[0;32m    544\u001b[0m             \u001b[1;32mraise\u001b[0m \u001b[0mTimeoutError\u001b[0m \u001b[1;32mfrom\u001b[0m \u001b[0me\u001b[0m\u001b[1;33m\u001b[0m\u001b[1;33m\u001b[0m\u001b[0m\n",
      "\u001b[1;32mC:\\ProgramData\\Anaconda3\\lib\\concurrent\\futures\\_base.py\u001b[0m in \u001b[0;36mresult\u001b[1;34m(self, timeout)\u001b[0m\n\u001b[0;32m    432\u001b[0m                 \u001b[1;32mreturn\u001b[0m \u001b[0mself\u001b[0m\u001b[1;33m.\u001b[0m\u001b[0m__get_result\u001b[0m\u001b[1;33m(\u001b[0m\u001b[1;33m)\u001b[0m\u001b[1;33m\u001b[0m\u001b[1;33m\u001b[0m\u001b[0m\n\u001b[0;32m    433\u001b[0m \u001b[1;33m\u001b[0m\u001b[0m\n\u001b[1;32m--> 434\u001b[1;33m             \u001b[0mself\u001b[0m\u001b[1;33m.\u001b[0m\u001b[0m_condition\u001b[0m\u001b[1;33m.\u001b[0m\u001b[0mwait\u001b[0m\u001b[1;33m(\u001b[0m\u001b[0mtimeout\u001b[0m\u001b[1;33m)\u001b[0m\u001b[1;33m\u001b[0m\u001b[1;33m\u001b[0m\u001b[0m\n\u001b[0m\u001b[0;32m    435\u001b[0m \u001b[1;33m\u001b[0m\u001b[0m\n\u001b[0;32m    436\u001b[0m             \u001b[1;32mif\u001b[0m \u001b[0mself\u001b[0m\u001b[1;33m.\u001b[0m\u001b[0m_state\u001b[0m \u001b[1;32min\u001b[0m \u001b[1;33m[\u001b[0m\u001b[0mCANCELLED\u001b[0m\u001b[1;33m,\u001b[0m \u001b[0mCANCELLED_AND_NOTIFIED\u001b[0m\u001b[1;33m]\u001b[0m\u001b[1;33m:\u001b[0m\u001b[1;33m\u001b[0m\u001b[1;33m\u001b[0m\u001b[0m\n",
      "\u001b[1;32mC:\\ProgramData\\Anaconda3\\lib\\threading.py\u001b[0m in \u001b[0;36mwait\u001b[1;34m(self, timeout)\u001b[0m\n\u001b[0;32m    300\u001b[0m         \u001b[1;32mtry\u001b[0m\u001b[1;33m:\u001b[0m    \u001b[1;31m# restore state no matter what (e.g., KeyboardInterrupt)\u001b[0m\u001b[1;33m\u001b[0m\u001b[1;33m\u001b[0m\u001b[0m\n\u001b[0;32m    301\u001b[0m             \u001b[1;32mif\u001b[0m \u001b[0mtimeout\u001b[0m \u001b[1;32mis\u001b[0m \u001b[1;32mNone\u001b[0m\u001b[1;33m:\u001b[0m\u001b[1;33m\u001b[0m\u001b[1;33m\u001b[0m\u001b[0m\n\u001b[1;32m--> 302\u001b[1;33m                 \u001b[0mwaiter\u001b[0m\u001b[1;33m.\u001b[0m\u001b[0macquire\u001b[0m\u001b[1;33m(\u001b[0m\u001b[1;33m)\u001b[0m\u001b[1;33m\u001b[0m\u001b[1;33m\u001b[0m\u001b[0m\n\u001b[0m\u001b[0;32m    303\u001b[0m                 \u001b[0mgotit\u001b[0m \u001b[1;33m=\u001b[0m \u001b[1;32mTrue\u001b[0m\u001b[1;33m\u001b[0m\u001b[1;33m\u001b[0m\u001b[0m\n\u001b[0;32m    304\u001b[0m             \u001b[1;32melse\u001b[0m\u001b[1;33m:\u001b[0m\u001b[1;33m\u001b[0m\u001b[1;33m\u001b[0m\u001b[0m\n",
      "\u001b[1;31mKeyboardInterrupt\u001b[0m: "
     ]
    }
   ],
   "source": [
    "grid_search_rfc.fit(x_train,y_train)"
   ]
  },
  {
   "cell_type": "code",
   "execution_count": null,
   "metadata": {},
   "outputs": [],
   "source": [
    "grid_search_rfc.best_params_"
   ]
  },
  {
   "cell_type": "code",
   "execution_count": null,
   "metadata": {},
   "outputs": [],
   "source": [
    "rfc_gs = grid_search_rfc.best_estimator_\n",
    "rfc_gs"
   ]
  },
  {
   "cell_type": "code",
   "execution_count": null,
   "metadata": {},
   "outputs": [],
   "source": [
    "y_pred = rf_gs.predict(x_valid)\n",
    "\n",
    "print(\"Training Accuracy: \", rf_gs.score(x_train, y_train))\n",
    "print('Testing Accuarcy: ', rf_gs.score(x_valid, y_valid))\n",
    "\n",
    "# making a classification report\n",
    "cr = classification_report(y_valid,  y_pred)\n",
    "print(cr)\n",
    "\n",
    "# making a confusion matrix\n",
    "cm = confusion_matrix(y_valid, y_pred)\n",
    "sns.heatmap(cm, annot = True)"
   ]
  },
  {
   "cell_type": "code",
   "execution_count": 65,
   "metadata": {},
   "outputs": [
    {
     "name": "stdout",
     "output_type": "stream",
     "text": [
      "Training Accuracy:  0.8486260225591902\n",
      "Testing Accuarcy:  0.8503509966426408\n",
      "              precision    recall  f1-score   support\n",
      "\n",
      "           0       0.85      0.84      0.85     21138\n",
      "           1       0.85      0.86      0.85     21455\n",
      "\n",
      "    accuracy                           0.85     42593\n",
      "   macro avg       0.85      0.85      0.85     42593\n",
      "weighted avg       0.85      0.85      0.85     42593\n",
      "\n"
     ]
    },
    {
     "data": {
      "text/plain": [
       "<AxesSubplot:>"
      ]
     },
     "execution_count": 65,
     "metadata": {},
     "output_type": "execute_result"
    },
    {
     "data": {
      "image/png": "[encoded data removed]",
      "text/plain": [
       "<Figure size 432x288 with 2 Axes>"
      ]
     },
     "metadata": {
      "needs_background": "light"
     },
     "output_type": "display_data"
    }
   ],
   "source": [
    "# ADA BOOST CLASSIFIER\n",
    "\n",
    "model_ada = AdaBoostClassifier(random_state=123)\n",
    "model_ada.fit(x_train, y_train)\n",
    "\n",
    "y_pred = model_ada.predict(x_valid)\n",
    "\n",
    "print(\"Training Accuracy: \", model_ada.score(x_train, y_train))\n",
    "print('Testing Accuarcy: ', model_ada.score(x_valid, y_valid))\n",
    "\n",
    "# making a classification report\n",
    "cr = classification_report(y_valid,  y_pred)\n",
    "print(cr)\n",
    "\n",
    "# making a confusion matrix\n",
    "cm = confusion_matrix(y_valid, y_pred)\n",
    "sns.heatmap(cm, annot = True)"
   ]
  },
  {
   "cell_type": "code",
   "execution_count": 66,
   "metadata": {},
   "outputs": [
    {
     "name": "stdout",
     "output_type": "stream",
     "text": [
      "Training Accuracy:  0.9203787368060936\n",
      "Testing Accuarcy:  0.8964853379663325\n",
      "              precision    recall  f1-score   support\n",
      "\n",
      "           0       0.86      0.95      0.90     21138\n",
      "           1       0.94      0.85      0.89     21455\n",
      "\n",
      "    accuracy                           0.90     42593\n",
      "   macro avg       0.90      0.90      0.90     42593\n",
      "weighted avg       0.90      0.90      0.90     42593\n",
      "\n"
     ]
    },
    {
     "data": {
      "text/plain": [
       "<AxesSubplot:>"
      ]
     },
     "execution_count": 66,
     "metadata": {},
     "output_type": "execute_result"
    },
    {
     "data": {
      "image/png": "[encoded data removed]",
      "text/plain": [
       "<Figure size 432x288 with 2 Axes>"
      ]
     },
     "metadata": {
      "needs_background": "light"
     },
     "output_type": "display_data"
    }
   ],
   "source": [
    "# Xg-Boost Classifier\n",
    "\n",
    "from xgboost.sklearn import XGBClassifier\n",
    "\n",
    "\n",
    "model_xgb = XGBClassifier(random_state=123)\n",
    "model_xgb.fit(x_train, y_train)\n",
    "\n",
    "y_pred = model_xgb.predict(x_valid)\n",
    "\n",
    "print(\"Training Accuracy: \", model_xgb.score(x_train, y_train))\n",
    "print('Testing Accuarcy: ', model_xgb.score(x_valid, y_valid))\n",
    "\n",
    "# making a classification report\n",
    "cr = classification_report(y_valid,  y_pred)\n",
    "print(cr)\n",
    "\n",
    "# making a confusion matrix\n",
    "cm = confusion_matrix(y_valid, y_pred)\n",
    "sns.heatmap(cm, annot = True)"
   ]
  },
  {
   "cell_type": "code",
   "execution_count": 67,
   "metadata": {
    "scrolled": false
   },
   "outputs": [
    {
     "name": "stdout",
     "output_type": "stream",
     "text": [
      "Training Accuracy:  0.8652888320940201\n",
      "Testing Accuarcy:  0.8681003920832061\n",
      "              precision    recall  f1-score   support\n",
      "\n",
      "           0       0.86      0.88      0.87     21138\n",
      "           1       0.88      0.85      0.87     21455\n",
      "\n",
      "    accuracy                           0.87     42593\n",
      "   macro avg       0.87      0.87      0.87     42593\n",
      "weighted avg       0.87      0.87      0.87     42593\n",
      "\n"
     ]
    },
    {
     "data": {
      "text/plain": [
       "<AxesSubplot:>"
      ]
     },
     "execution_count": 67,
     "metadata": {},
     "output_type": "execute_result"
    },
    {
     "data": {
      "image/png": "[encoded data removed]",
      "text/plain": [
       "<Figure size 432x288 with 2 Axes>"
      ]
     },
     "metadata": {
      "needs_background": "light"
     },
     "output_type": "display_data"
    }
   ],
   "source": [
    "# Gradient Boost Classifier\n",
    "\n",
    "model_gbc = GradientBoostingClassifier(random_state=123)\n",
    "model_gbc.fit(x_train, y_train)\n",
    "\n",
    "y_pred = model_gbc.predict(x_valid)\n",
    "\n",
    "print(\"Training Accuracy: \", model_gbc.score(x_train, y_train))\n",
    "print('Testing Accuarcy: ', model_gbc.score(x_valid, y_valid))\n",
    "\n",
    "# making a classification report\n",
    "cr = classification_report(y_valid,  y_pred)\n",
    "print(cr)\n",
    "\n",
    "# making a confusion matrix\n",
    "cm = confusion_matrix(y_valid, y_pred)\n",
    "sns.heatmap(cm, annot = True)"
   ]
  },
  {
   "cell_type": "code",
   "execution_count": null,
   "metadata": {},
   "outputs": [],
   "source": [
    "sel = RFE(GradientBoostingClassifier(n_estimators=100,random_state=123, n_jobs=-1),n_features_to_select=15)"
   ]
  },
  {
   "cell_type": "code",
   "execution_count": null,
   "metadata": {},
   "outputs": [],
   "source": [
    "sel.fit(x_train, y_train)"
   ]
  },
  {
   "cell_type": "code",
   "execution_count": null,
   "metadata": {},
   "outputs": [],
   "source": [
    "x_train_rfe = sel.transform(x_train)\n",
    "x_valid_rfe = sel.transform(x_valid)"
   ]
  },
  {
   "cell_type": "code",
   "execution_count": null,
   "metadata": {},
   "outputs": [],
   "source": [
    "# Gradient Boost Classifier using Feature Selection RFE\n",
    "\n",
    "model_gbc_rfe = GradientBoostingClassifier(random_state=123)\n",
    "model_gbc_rfe.fit(x_train_rfe, y_train)\n",
    "\n",
    "y_pred = model_gbc.predict(x_valid_rfe)\n",
    "\n",
    "print(\"Training Accuracy: \", model_gbc_rfe.score(x_train_rfe, y_train))\n",
    "print('Testing Accuarcy: ', model_gbc_rfe.score(x_valid_rfe, y_valid))\n",
    "\n",
    "# making a classification report\n",
    "cr = classification_report(y_valid,  y_pred)\n",
    "print(cr)\n",
    "\n",
    "# making a confusion matrix\n",
    "cm = confusion_matrix(y_valid, y_pred)\n",
    "sns.heatmap(cm, annot = True)"
   ]
  },
  {
   "cell_type": "code",
   "execution_count": null,
   "metadata": {},
   "outputs": [],
   "source": [
    "# Gradient Boosting Classifier using Grid Search\n",
    "\n",
    "grid_array_gbc = {\"n_estimators\":[5,50,250,500],\n",
    "                  \"max_depth\":[1,3,5,7,9],\n",
    "                  \"learning_rate\":[0.01,0.1,1,10,100]}"
   ]
  },
  {
   "cell_type": "code",
   "execution_count": null,
   "metadata": {},
   "outputs": [],
   "source": [
    "grid_search_gbc = GridSearchCV(model_gbc, grid_array_gbc, scoring='f1', cv = 5, n_jobs=-1)"
   ]
  },
  {
   "cell_type": "code",
   "execution_count": null,
   "metadata": {},
   "outputs": [],
   "source": [
    "grid_search_gbc.fit(x_train,y_train)"
   ]
  },
  {
   "cell_type": "code",
   "execution_count": null,
   "metadata": {},
   "outputs": [],
   "source": [
    "grid_search_gbc.best_params_"
   ]
  },
  {
   "cell_type": "code",
   "execution_count": null,
   "metadata": {},
   "outputs": [],
   "source": [
    "gbc_gs = grid_search_gbc.best_estimator_\n",
    "gbc_gs"
   ]
  },
  {
   "cell_type": "code",
   "execution_count": null,
   "metadata": {},
   "outputs": [],
   "source": [
    "y_pred = gbc_gs.predict(x_valid)\n",
    "\n",
    "print(\"Training Accuracy: \", gbc_gs.score(x_train, y_train))\n",
    "print('Testing Accuarcy: ', gbc_gs.score(x_valid, y_valid))\n",
    "\n",
    "# making a classification report\n",
    "cr = classification_report(y_valid,  y_pred)\n",
    "print(cr)\n",
    "\n",
    "# making a confusion matrix\n",
    "cm = confusion_matrix(y_valid, y_pred)\n",
    "sns.heatmap(cm, annot = True)"
   ]
  },
  {
   "cell_type": "code",
   "execution_count": 68,
   "metadata": {},
   "outputs": [
    {
     "name": "stdout",
     "output_type": "stream",
     "text": [
      "Training Accuracy:  0.8098065061429017\n",
      "Testing Accuarcy:  0.8123400558777264\n",
      "              precision    recall  f1-score   support\n",
      "\n",
      "           0       0.81      0.82      0.81     21138\n",
      "           1       0.82      0.81      0.81     21455\n",
      "\n",
      "    accuracy                           0.81     42593\n",
      "   macro avg       0.81      0.81      0.81     42593\n",
      "weighted avg       0.81      0.81      0.81     42593\n",
      "\n"
     ]
    },
    {
     "data": {
      "text/plain": [
       "<AxesSubplot:>"
      ]
     },
     "execution_count": 68,
     "metadata": {},
     "output_type": "execute_result"
    },
    {
     "data": {
      "image/png": "[encoded data removed]",
      "text/plain": [
       "<Figure size 432x288 with 2 Axes>"
      ]
     },
     "metadata": {
      "needs_background": "light"
     },
     "output_type": "display_data"
    }
   ],
   "source": [
    "# Logistic Regression Classifier\n",
    "\n",
    "\n",
    "model_lr = LogisticRegression(random_state=123)\n",
    "model_lr.fit(x_train, y_train)\n",
    "\n",
    "y_pred = model_lr.predict(x_valid)\n",
    "\n",
    "print(\"Training Accuracy: \", model_lr.score(x_train, y_train))\n",
    "print('Testing Accuarcy: ', model_lr.score(x_valid, y_valid))\n",
    "\n",
    "# making a classification report\n",
    "cr = classification_report(y_valid,  y_pred)\n",
    "print(cr)\n",
    "\n",
    "# making a confusion matrix\n",
    "cm = confusion_matrix(y_valid, y_pred)\n",
    "sns.heatmap(cm, annot = True)"
   ]
  },
  {
   "cell_type": "code",
   "execution_count": null,
   "metadata": {},
   "outputs": [],
   "source": [
    "# Logistic Regression using Grid Search\n",
    "\n",
    "grid_array_lr = {\"C\":np.logspace(-3,3,7), \"penalty\":[\"l1\",\"l2\"]}"
   ]
  },
  {
   "cell_type": "code",
   "execution_count": null,
   "metadata": {},
   "outputs": [],
   "source": [
    "grid_search_lr = GridSearchCV(model_lr, grid_array_lr, scoring='f1', cv = 5, n_jobs=-1)"
   ]
  },
  {
   "cell_type": "code",
   "execution_count": null,
   "metadata": {},
   "outputs": [],
   "source": [
    "grid_search_lr.fit(x_train,y_train)"
   ]
  },
  {
   "cell_type": "code",
   "execution_count": null,
   "metadata": {},
   "outputs": [],
   "source": [
    "grid_search_lr.best_params_"
   ]
  },
  {
   "cell_type": "code",
   "execution_count": null,
   "metadata": {},
   "outputs": [],
   "source": [
    "lr_gs = grid_search_lr.best_estimator_\n",
    "lr_gs"
   ]
  },
  {
   "cell_type": "code",
   "execution_count": null,
   "metadata": {},
   "outputs": [],
   "source": [
    "y_pred = lr_gs.predict(x_valid)\n",
    "\n",
    "print(\"Training Accuracy: \", lr_gs.score(x_train, y_train))\n",
    "print('Testing Accuarcy: ', lr_gs.score(x_valid, y_valid))\n",
    "\n",
    "# making a classification report\n",
    "cr = classification_report(y_valid,  y_pred)\n",
    "print(cr)\n",
    "\n",
    "# making a confusion matrix\n",
    "cm = confusion_matrix(y_valid, y_pred)\n",
    "sns.heatmap(cm, annot = True)"
   ]
  },
  {
   "cell_type": "code",
   "execution_count": 74,
   "metadata": {},
   "outputs": [
    {
     "name": "stdout",
     "output_type": "stream",
     "text": [
      "Training Accuracy:  0.8804322670879325\n",
      "Testing Accuarcy:  0.8206747587631771\n",
      "              precision    recall  f1-score   support\n",
      "\n",
      "           0       0.87      0.75      0.81     21138\n",
      "           1       0.78      0.89      0.83     21455\n",
      "\n",
      "    accuracy                           0.82     42593\n",
      "   macro avg       0.83      0.82      0.82     42593\n",
      "weighted avg       0.83      0.82      0.82     42593\n",
      "\n"
     ]
    },
    {
     "data": {
      "text/plain": [
       "<AxesSubplot:>"
      ]
     },
     "execution_count": 74,
     "metadata": {},
     "output_type": "execute_result"
    },
    {
     "data": {
      "image/png": "[encoded data removed]",
      "text/plain": [
       "<Figure size 432x288 with 2 Axes>"
      ]
     },
     "metadata": {
      "needs_background": "light"
     },
     "output_type": "display_data"
    }
   ],
   "source": [
    "# KNeighbors Classifier \n",
    "\n",
    "\n",
    "model_knn = KNeighborsClassifier(random_state=123)\n",
    "model_knn.fit(x_train, y_train)\n",
    "\n",
    "y_pred = model_knn.predict(x_valid)\n",
    "\n",
    "print(\"Training Accuracy: \", model_knn.score(x_train, y_train))\n",
    "print('Testing Accuarcy: ', model_knn.score(x_valid, y_valid))\n",
    "\n",
    "# making a classification report\n",
    "cr = classification_report(y_valid,  y_pred)\n",
    "print(cr)\n",
    "\n",
    "# making a confusion matrix\n",
    "cm = confusion_matrix(y_valid, y_pred)\n",
    "sns.heatmap(cm, annot = True)"
   ]
  },
  {
   "cell_type": "code",
   "execution_count": null,
   "metadata": {},
   "outputs": [],
   "source": [
    "# Support Vector Classifier\n",
    "\n",
    "model_svc = SVC(kernel=\"linear\")\n",
    "model_svc.fit(x_train, y_train)\n",
    "\n",
    "y_pred = model_svc.predict(x_valid)\n",
    "\n",
    "print(\"Training Accuracy: \", model_svc.score(x_train, y_train))\n",
    "print('Testing Accuarcy: ', model_svc.score(x_valid, y_valid))\n",
    "\n",
    "# making a classification report\n",
    "cr = classification_report(y_valid,  y_pred)\n",
    "print(cr)\n",
    "\n",
    "# making a confusion matrix\n",
    "cm = confusion_matrix(y_valid, y_pred)\n",
    "sns.heatmap(cm, annot = True)"
   ]
  },
  {
   "cell_type": "code",
   "execution_count": 79,
   "metadata": {},
   "outputs": [],
   "source": [
    "# let's predict for the tests set\n",
    "\n",
    "y_pred_rf = model_rf.predict(x_test)\n",
    "y_pred_ada = model_ada.predict(x_test)\n",
    "y_pred_xgb = model_xgb.predict(x_test)\n",
    "y_pred_gbc = model_gbc.predict(x_test)\n",
    "y_pred_lr = model_lr.predict(x_test)\n",
    "y_pred_knn = model_knn.predict(x_test)\n",
    "y_pred_svc = model_svc.predict(x_test)"
   ]
  },
  {
   "cell_type": "code",
   "execution_count": 71,
   "metadata": {},
   "outputs": [
    {
     "data": {
      "text/html": [
       "<div>\n",
       "<style scoped>\n",
       "    .dataframe tbody tr th:only-of-type {\n",
       "        vertical-align: middle;\n",
       "    }\n",
       "\n",
       "    .dataframe tbody tr th {\n",
       "        vertical-align: top;\n",
       "    }\n",
       "\n",
       "    .dataframe thead th {\n",
       "        text-align: right;\n",
       "    }\n",
       "</style>\n",
       "<table border=\"1\" class=\"dataframe\">\n",
       "  <thead>\n",
       "    <tr style=\"text-align: right;\">\n",
       "      <th></th>\n",
       "      <th>ID</th>\n",
       "      <th>Loan/No Loan</th>\n",
       "    </tr>\n",
       "  </thead>\n",
       "  <tbody>\n",
       "    <tr>\n",
       "      <th>0</th>\n",
       "      <td>198980</td>\n",
       "      <td>0</td>\n",
       "    </tr>\n",
       "    <tr>\n",
       "      <th>1</th>\n",
       "      <td>167688</td>\n",
       "      <td>0</td>\n",
       "    </tr>\n",
       "    <tr>\n",
       "      <th>2</th>\n",
       "      <td>198768</td>\n",
       "      <td>1</td>\n",
       "    </tr>\n",
       "    <tr>\n",
       "      <th>3</th>\n",
       "      <td>192564</td>\n",
       "      <td>1</td>\n",
       "    </tr>\n",
       "    <tr>\n",
       "      <th>4</th>\n",
       "      <td>151199</td>\n",
       "      <td>1</td>\n",
       "    </tr>\n",
       "  </tbody>\n",
       "</table>\n",
       "</div>"
      ],
      "text/plain": [
       "       ID  Loan/No Loan\n",
       "0  198980             0\n",
       "1  167688             0\n",
       "2  198768             1\n",
       "3  192564             1\n",
       "4  151199             1"
      ]
     },
     "execution_count": 71,
     "metadata": {},
     "output_type": "execute_result"
    }
   ],
   "source": [
    "#  let's create a submission file\n",
    "\n",
    "#Create a  DataFrame with the passengers ids and our prediction regarding whether they survived or not\n",
    "submission = pd.DataFrame({'ID': unique_id,'Loan/No Loan': y_pred_lr})\n",
    "\n",
    "#Visualize the first 5 rows\n",
    "submission.head()"
   ]
  },
  {
   "cell_type": "code",
   "execution_count": 72,
   "metadata": {},
   "outputs": [
    {
     "name": "stdout",
     "output_type": "stream",
     "text": [
      "Saved file: submission1.csv\n"
     ]
    }
   ],
   "source": [
    "#Convert DataFrame to a csv file that can be uploaded\n",
    "\n",
    "piyush = 'submission1.csv'\n",
    "\n",
    "submission.to_csv(piyush,index=False)\n",
    "\n",
    "print('Saved file: ' + piyush)"
   ]
  },
  {
   "cell_type": "code",
   "execution_count": null,
   "metadata": {},
   "outputs": [],
   "source": []
  }
 ],
 "metadata": {
  "kernelspec": {
   "display_name": "Python 3",
   "language": "python",
   "name": "python3"
  },
  "language_info": {
   "codemirror_mode": {
    "name": "ipython",
    "version": 3
   },
   "file_extension": ".py",
   "mimetype": "text/x-python",
   "name": "python",
   "nbconvert_exporter": "python",
   "pygments_lexer": "ipython3",
   "version": "3.8.5"
  }
 },
 "nbformat": 4,
 "nbformat_minor": 4
}
